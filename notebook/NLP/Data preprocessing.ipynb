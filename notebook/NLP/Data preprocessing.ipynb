{
 "cells": [
  {
   "cell_type": "markdown",
   "metadata": {},
   "source": [
    "## 일상 대화 데이터 전처리 작업\n",
    "\n",
    "데이터 출처\n",
    "https://aihub.or.kr/aidata/85"
   ]
  },
  {
   "cell_type": "markdown",
   "metadata": {},
   "source": [
    "### 대화 발생 장소별 구분"
   ]
  },
  {
   "cell_type": "code",
   "execution_count": 1,
   "metadata": {},
   "outputs": [
    {
     "name": "stdout",
     "output_type": "stream",
     "text": [
      "/tf/notebooks/NLP\r\n"
     ]
    }
   ],
   "source": [
    "!pwd"
   ]
  },
  {
   "cell_type": "code",
   "execution_count": 2,
   "metadata": {},
   "outputs": [
    {
     "data": {
      "text/plain": [
       "['A 음식점(15,726)_new.xlsx',\n",
       " 'B 의류(15,826)_new.xlsx',\n",
       " 'C 학원(4,773)_new.xlsx',\n",
       " 'D 소매점(14,949)_new.xlsx',\n",
       " 'E 생활서비스(11,087)_new.xlsx',\n",
       " 'F 카페(7,859)_new.xlsx',\n",
       " 'G 숙박업(7,113)_new.xlsx',\n",
       " 'H 관광여가오락(4,949)_new.xlsx',\n",
       " 'I 부동산(8,131)_new.xlsx']"
      ]
     },
     "execution_count": 2,
     "metadata": {},
     "output_type": "execute_result"
    }
   ],
   "source": [
    "trainDataPath = './train_data'\n",
    "\n",
    "dataFileList = !(ls $trainDataPath | grep .xlsx)\n",
    "dataFileList"
   ]
  },
  {
   "cell_type": "code",
   "execution_count": 3,
   "metadata": {},
   "outputs": [],
   "source": [
    "import pandas as pd \n",
    "import os\n",
    "from hanspell import spell_checker\n",
    "import requests\n",
    "from urllib import parse\n",
    "import json\n",
    "from multiprocessing import Process, Queue\n",
    "import math\n",
    "import re\n",
    "from time import process_time\n",
    "from ckonlpy.tag import Twitter\n",
    "from nltk import ngrams"
   ]
  },
  {
   "cell_type": "code",
   "execution_count": 4,
   "metadata": {},
   "outputs": [],
   "source": [
    "df = pd.read_excel(\"./train_data/A 음식점(15,726)_new.xlsx\", engine = \"openpyxl\")"
   ]
  },
  {
   "cell_type": "code",
   "execution_count": 5,
   "metadata": {},
   "outputs": [
    {
     "data": {
      "text/html": [
       "<div>\n",
       "<style scoped>\n",
       "    .dataframe tbody tr th:only-of-type {\n",
       "        vertical-align: middle;\n",
       "    }\n",
       "\n",
       "    .dataframe tbody tr th {\n",
       "        vertical-align: top;\n",
       "    }\n",
       "\n",
       "    .dataframe thead th {\n",
       "        text-align: right;\n",
       "    }\n",
       "</style>\n",
       "<table border=\"1\" class=\"dataframe\">\n",
       "  <thead>\n",
       "    <tr style=\"text-align: right;\">\n",
       "      <th></th>\n",
       "      <th>SPEAKER</th>\n",
       "      <th>SENTENCE</th>\n",
       "      <th>DOMAINID</th>\n",
       "      <th>DOMAIN</th>\n",
       "      <th>CATEGORY</th>\n",
       "      <th>SPEAKERID</th>\n",
       "      <th>SENTENCEID</th>\n",
       "      <th>MAIN</th>\n",
       "      <th>SUB</th>\n",
       "      <th>QA</th>\n",
       "      <th>QACNCT</th>\n",
       "      <th>MQ</th>\n",
       "      <th>SQ</th>\n",
       "      <th>UA</th>\n",
       "      <th>SA</th>\n",
       "      <th>개체명</th>\n",
       "      <th>용어사전</th>\n",
       "      <th>지식베이스</th>\n",
       "      <th>Unnamed: 18</th>\n",
       "    </tr>\n",
       "  </thead>\n",
       "  <tbody>\n",
       "    <tr>\n",
       "      <th>0</th>\n",
       "      <td>고객</td>\n",
       "      <td>지금 배달되나요?</td>\n",
       "      <td>A</td>\n",
       "      <td>음식점</td>\n",
       "      <td>배달음식점</td>\n",
       "      <td>1</td>\n",
       "      <td>1</td>\n",
       "      <td>배달가능문의</td>\n",
       "      <td>NaN</td>\n",
       "      <td>Q</td>\n",
       "      <td>NaN</td>\n",
       "      <td>지금 배달되나요?</td>\n",
       "      <td>NaN</td>\n",
       "      <td>NaN</td>\n",
       "      <td>NaN</td>\n",
       "      <td>수고, 지금, 배달</td>\n",
       "      <td>NaN</td>\n",
       "      <td>NaN</td>\n",
       "      <td>NaN</td>\n",
       "    </tr>\n",
       "    <tr>\n",
       "      <th>1</th>\n",
       "      <td>점원</td>\n",
       "      <td>아 네 배달됩니다</td>\n",
       "      <td>A</td>\n",
       "      <td>음식점</td>\n",
       "      <td>배달음식점</td>\n",
       "      <td>0</td>\n",
       "      <td>2</td>\n",
       "      <td>배달가능문의</td>\n",
       "      <td>NaN</td>\n",
       "      <td>A</td>\n",
       "      <td>NaN</td>\n",
       "      <td>NaN</td>\n",
       "      <td>NaN</td>\n",
       "      <td>NaN</td>\n",
       "      <td>아 네 배달됩니다</td>\n",
       "      <td>배달</td>\n",
       "      <td>NaN</td>\n",
       "      <td>NaN</td>\n",
       "      <td>NaN</td>\n",
       "    </tr>\n",
       "    <tr>\n",
       "      <th>2</th>\n",
       "      <td>고객</td>\n",
       "      <td>짬뽕류는 어떤 게 있나요? 잘 나가는 짬뽕 있나요?</td>\n",
       "      <td>A</td>\n",
       "      <td>음식점</td>\n",
       "      <td>배달음식점</td>\n",
       "      <td>1</td>\n",
       "      <td>3</td>\n",
       "      <td>베스트메뉴문의추천요청</td>\n",
       "      <td>NaN</td>\n",
       "      <td>Q</td>\n",
       "      <td>NaN</td>\n",
       "      <td>짬뽕류는 어떤 게 있나요? 잘 나가는 짬뽕 있나요?</td>\n",
       "      <td>NaN</td>\n",
       "      <td>NaN</td>\n",
       "      <td>NaN</td>\n",
       "      <td>짬뽕</td>\n",
       "      <td>NaN</td>\n",
       "      <td>짬뽕/메뉴</td>\n",
       "      <td>NaN</td>\n",
       "    </tr>\n",
       "  </tbody>\n",
       "</table>\n",
       "</div>"
      ],
      "text/plain": [
       "  SPEAKER                      SENTENCE DOMAINID DOMAIN CATEGORY  SPEAKERID  \\\n",
       "0      고객                     지금 배달되나요?        A    음식점    배달음식점          1   \n",
       "1      점원                     아 네 배달됩니다        A    음식점    배달음식점          0   \n",
       "2      고객  짬뽕류는 어떤 게 있나요? 잘 나가는 짬뽕 있나요?        A    음식점    배달음식점          1   \n",
       "\n",
       "  SENTENCEID         MAIN  SUB QA QACNCT                            MQ   SQ  \\\n",
       "0          1       배달가능문의  NaN  Q    NaN                     지금 배달되나요?  NaN   \n",
       "1          2       배달가능문의  NaN  A    NaN                           NaN  NaN   \n",
       "2          3  베스트메뉴문의추천요청  NaN  Q    NaN  짬뽕류는 어떤 게 있나요? 잘 나가는 짬뽕 있나요?  NaN   \n",
       "\n",
       "    UA         SA         개체명 용어사전  지식베이스  Unnamed: 18  \n",
       "0  NaN        NaN  수고, 지금, 배달  NaN    NaN          NaN  \n",
       "1  NaN  아 네 배달됩니다          배달  NaN    NaN          NaN  \n",
       "2  NaN        NaN          짬뽕  NaN  짬뽕/메뉴          NaN  "
      ]
     },
     "execution_count": 5,
     "metadata": {},
     "output_type": "execute_result"
    }
   ],
   "source": [
    "df.head(3)"
   ]
  },
  {
   "cell_type": "code",
   "execution_count": 6,
   "metadata": {},
   "outputs": [],
   "source": [
    "dataFrames = []\n",
    "for dataFileName in dataFileList:\n",
    "    dataFrames.append(pd.read_excel(os.path.join(trainDataPath, dataFileName), engine = \"openpyxl\"))"
   ]
  },
  {
   "cell_type": "code",
   "execution_count": 7,
   "metadata": {},
   "outputs": [
    {
     "data": {
      "text/html": [
       "<div>\n",
       "<style scoped>\n",
       "    .dataframe tbody tr th:only-of-type {\n",
       "        vertical-align: middle;\n",
       "    }\n",
       "\n",
       "    .dataframe tbody tr th {\n",
       "        vertical-align: top;\n",
       "    }\n",
       "\n",
       "    .dataframe thead th {\n",
       "        text-align: right;\n",
       "    }\n",
       "</style>\n",
       "<table border=\"1\" class=\"dataframe\">\n",
       "  <thead>\n",
       "    <tr style=\"text-align: right;\">\n",
       "      <th></th>\n",
       "      <th>SPEAKER</th>\n",
       "      <th>SENTENCE</th>\n",
       "      <th>DOMAINID</th>\n",
       "      <th>DOMAIN</th>\n",
       "      <th>CATEGORY</th>\n",
       "      <th>SPEAKERID</th>\n",
       "      <th>SENTENCEID</th>\n",
       "      <th>MAIN</th>\n",
       "      <th>SUB</th>\n",
       "      <th>QA</th>\n",
       "      <th>QACNCT</th>\n",
       "      <th>MQ</th>\n",
       "      <th>SQ</th>\n",
       "      <th>UA</th>\n",
       "      <th>SA</th>\n",
       "      <th>개체명</th>\n",
       "      <th>용어사전</th>\n",
       "      <th>지식베이스</th>\n",
       "      <th>Unnamed: 18</th>\n",
       "    </tr>\n",
       "  </thead>\n",
       "  <tbody>\n",
       "    <tr>\n",
       "      <th>0</th>\n",
       "      <td>고객</td>\n",
       "      <td>지금 배달되나요?</td>\n",
       "      <td>A</td>\n",
       "      <td>음식점</td>\n",
       "      <td>배달음식점</td>\n",
       "      <td>1</td>\n",
       "      <td>1</td>\n",
       "      <td>배달가능문의</td>\n",
       "      <td>NaN</td>\n",
       "      <td>Q</td>\n",
       "      <td>NaN</td>\n",
       "      <td>지금 배달되나요?</td>\n",
       "      <td>NaN</td>\n",
       "      <td>NaN</td>\n",
       "      <td>NaN</td>\n",
       "      <td>수고, 지금, 배달</td>\n",
       "      <td>NaN</td>\n",
       "      <td>NaN</td>\n",
       "      <td>NaN</td>\n",
       "    </tr>\n",
       "    <tr>\n",
       "      <th>1</th>\n",
       "      <td>점원</td>\n",
       "      <td>아 네 배달됩니다</td>\n",
       "      <td>A</td>\n",
       "      <td>음식점</td>\n",
       "      <td>배달음식점</td>\n",
       "      <td>0</td>\n",
       "      <td>2</td>\n",
       "      <td>배달가능문의</td>\n",
       "      <td>NaN</td>\n",
       "      <td>A</td>\n",
       "      <td>NaN</td>\n",
       "      <td>NaN</td>\n",
       "      <td>NaN</td>\n",
       "      <td>NaN</td>\n",
       "      <td>아 네 배달됩니다</td>\n",
       "      <td>배달</td>\n",
       "      <td>NaN</td>\n",
       "      <td>NaN</td>\n",
       "      <td>NaN</td>\n",
       "    </tr>\n",
       "  </tbody>\n",
       "</table>\n",
       "</div>"
      ],
      "text/plain": [
       "  SPEAKER   SENTENCE DOMAINID DOMAIN CATEGORY  SPEAKERID SENTENCEID    MAIN  \\\n",
       "0      고객  지금 배달되나요?        A    음식점    배달음식점          1          1  배달가능문의   \n",
       "1      점원  아 네 배달됩니다        A    음식점    배달음식점          0          2  배달가능문의   \n",
       "\n",
       "   SUB QA QACNCT         MQ   SQ   UA         SA         개체명 용어사전 지식베이스  \\\n",
       "0  NaN  Q    NaN  지금 배달되나요?  NaN  NaN        NaN  수고, 지금, 배달  NaN   NaN   \n",
       "1  NaN  A    NaN        NaN  NaN  NaN  아 네 배달됩니다          배달  NaN   NaN   \n",
       "\n",
       "   Unnamed: 18  \n",
       "0          NaN  \n",
       "1          NaN  "
      ]
     },
     "execution_count": 7,
     "metadata": {},
     "output_type": "execute_result"
    }
   ],
   "source": [
    "dataFrames[0].head(2)"
   ]
  },
  {
   "cell_type": "code",
   "execution_count": 8,
   "metadata": {},
   "outputs": [
    {
     "data": {
      "text/html": [
       "<div>\n",
       "<style scoped>\n",
       "    .dataframe tbody tr th:only-of-type {\n",
       "        vertical-align: middle;\n",
       "    }\n",
       "\n",
       "    .dataframe tbody tr th {\n",
       "        vertical-align: top;\n",
       "    }\n",
       "\n",
       "    .dataframe thead th {\n",
       "        text-align: right;\n",
       "    }\n",
       "</style>\n",
       "<table border=\"1\" class=\"dataframe\">\n",
       "  <thead>\n",
       "    <tr style=\"text-align: right;\">\n",
       "      <th></th>\n",
       "      <th>SPEAKER</th>\n",
       "      <th>SENTENCE</th>\n",
       "      <th>DOMAINID</th>\n",
       "      <th>DOMAIN</th>\n",
       "      <th>CATEGORY</th>\n",
       "      <th>SPEAKERID</th>\n",
       "      <th>SENTENCEID</th>\n",
       "      <th>MAIN</th>\n",
       "      <th>SUB</th>\n",
       "      <th>QA</th>\n",
       "      <th>QACNCT</th>\n",
       "      <th>MQ</th>\n",
       "      <th>SQ</th>\n",
       "      <th>UA</th>\n",
       "      <th>SA</th>\n",
       "      <th>개체명</th>\n",
       "      <th>용어사전</th>\n",
       "      <th>지식베이스</th>\n",
       "    </tr>\n",
       "  </thead>\n",
       "  <tbody>\n",
       "    <tr>\n",
       "      <th>0</th>\n",
       "      <td>고객</td>\n",
       "      <td>감귤밭 팔려고 하는데 어느정도에 팔 수 있을까요?</td>\n",
       "      <td>I</td>\n",
       "      <td>부동산</td>\n",
       "      <td>토지</td>\n",
       "      <td>1</td>\n",
       "      <td>1</td>\n",
       "      <td>시세문의</td>\n",
       "      <td>NaN</td>\n",
       "      <td>Q</td>\n",
       "      <td>NaN</td>\n",
       "      <td>감귤밭 팔려고 하는데 어느 정도에 팔 수 있을까요?</td>\n",
       "      <td>NaN</td>\n",
       "      <td>NaN</td>\n",
       "      <td>NaN</td>\n",
       "      <td>감귤밭</td>\n",
       "      <td>NaN</td>\n",
       "      <td>감귤밭/매물</td>\n",
       "    </tr>\n",
       "    <tr>\n",
       "      <th>1</th>\n",
       "      <td>점원</td>\n",
       "      <td>그쪽 지역은 아직 땅값이 별로 안나가서 많이는 못받을 것 같습니다.</td>\n",
       "      <td>I</td>\n",
       "      <td>부동산</td>\n",
       "      <td>토지</td>\n",
       "      <td>0</td>\n",
       "      <td>2</td>\n",
       "      <td>시세문의</td>\n",
       "      <td>NaN</td>\n",
       "      <td>A</td>\n",
       "      <td>NaN</td>\n",
       "      <td>NaN</td>\n",
       "      <td>NaN</td>\n",
       "      <td>NaN</td>\n",
       "      <td>그쪽 지역은 아직 땅값이 별로 안 나가서 많이는 못 받을 것 같습니다.</td>\n",
       "      <td>그쪽 지역, 땅값</td>\n",
       "      <td>NaN</td>\n",
       "      <td>그쪽 지역/위치</td>\n",
       "    </tr>\n",
       "  </tbody>\n",
       "</table>\n",
       "</div>"
      ],
      "text/plain": [
       "  SPEAKER                               SENTENCE DOMAINID DOMAIN CATEGORY  \\\n",
       "0      고객            감귤밭 팔려고 하는데 어느정도에 팔 수 있을까요?        I    부동산       토지   \n",
       "1      점원  그쪽 지역은 아직 땅값이 별로 안나가서 많이는 못받을 것 같습니다.        I    부동산       토지   \n",
       "\n",
       "   SPEAKERID SENTENCEID  MAIN  SUB QA  QACNCT                            MQ  \\\n",
       "0          1          1  시세문의  NaN  Q     NaN  감귤밭 팔려고 하는데 어느 정도에 팔 수 있을까요?   \n",
       "1          0          2  시세문의  NaN  A     NaN                           NaN   \n",
       "\n",
       "    SQ   UA                                       SA        개체명 용어사전     지식베이스  \n",
       "0  NaN  NaN                                      NaN        감귤밭  NaN    감귤밭/매물  \n",
       "1  NaN  NaN  그쪽 지역은 아직 땅값이 별로 안 나가서 많이는 못 받을 것 같습니다.  그쪽 지역, 땅값  NaN  그쪽 지역/위치  "
      ]
     },
     "execution_count": 8,
     "metadata": {},
     "output_type": "execute_result"
    }
   ],
   "source": [
    "dataFrames[-1].head(2)"
   ]
  },
  {
   "cell_type": "code",
   "execution_count": 9,
   "metadata": {},
   "outputs": [
    {
     "data": {
      "text/plain": [
       "'지금 배달되나요?'"
      ]
     },
     "execution_count": 9,
     "metadata": {},
     "output_type": "execute_result"
    }
   ],
   "source": [
    "dataFrames[0]['SENTENCE'][0]"
   ]
  },
  {
   "cell_type": "code",
   "execution_count": 10,
   "metadata": {},
   "outputs": [],
   "source": [
    "fullDataFrames = pd.DataFrame(columns=dataFrames[0].columns)"
   ]
  },
  {
   "cell_type": "code",
   "execution_count": 11,
   "metadata": {},
   "outputs": [
    {
     "name": "stdout",
     "output_type": "stream",
     "text": [
      "90413\n"
     ]
    }
   ],
   "source": [
    "for dfIdx in range(len(dataFrames)):\n",
    "    fullDataFrames = fullDataFrames.append(dataFrames[dfIdx][dataFrames[dfIdx].columns], ignore_index=True)\n",
    "fullDataFrames.head(2)\n",
    "print(fullDataFrames['SENTENCE'].size)"
   ]
  },
  {
   "cell_type": "code",
   "execution_count": 12,
   "metadata": {},
   "outputs": [
    {
     "data": {
      "text/plain": [
       "SPEAKER         object\n",
       "SENTENCE        object\n",
       "DOMAINID        object\n",
       "DOMAIN          object\n",
       "CATEGORY        object\n",
       "SPEAKERID       object\n",
       "SENTENCEID      object\n",
       "MAIN            object\n",
       "SUB             object\n",
       "QA              object\n",
       "QACNCT          object\n",
       "MQ              object\n",
       "SQ              object\n",
       "UA              object\n",
       "SA              object\n",
       "개체명             object\n",
       "용어사전            object\n",
       "지식베이스           object\n",
       "Unnamed: 18    float64\n",
       "Unnamed: 19    float64\n",
       "dtype: object"
      ]
     },
     "execution_count": 12,
     "metadata": {},
     "output_type": "execute_result"
    }
   ],
   "source": [
    "fullDataFrames.dtypes"
   ]
  },
  {
   "cell_type": "markdown",
   "metadata": {},
   "source": [
    "- 틀린 라벨 수정작업"
   ]
  },
  {
   "cell_type": "code",
   "execution_count": 13,
   "metadata": {},
   "outputs": [
    {
     "data": {
      "text/plain": [
       "B     15826\n",
       "A     15726\n",
       "D     14949\n",
       "E     11087\n",
       "I      8131\n",
       "G      7113\n",
       " F     6454\n",
       "H      4949\n",
       "C      4773\n",
       "F      1405\n",
       "Name: DOMAINID, dtype: int64"
      ]
     },
     "execution_count": 13,
     "metadata": {},
     "output_type": "execute_result"
    }
   ],
   "source": [
    "fullDataFrames['DOMAINID'].value_counts()"
   ]
  },
  {
   "cell_type": "code",
   "execution_count": 14,
   "metadata": {},
   "outputs": [
    {
     "data": {
      "text/plain": [
       "array(['A', 'B', 'C', 'D', 'E', 'F', ' F', 'G', 'H', 'I'], dtype=object)"
      ]
     },
     "execution_count": 14,
     "metadata": {},
     "output_type": "execute_result"
    }
   ],
   "source": [
    "fullDataFrames['DOMAINID'].drop_duplicates().values"
   ]
  },
  {
   "cell_type": "code",
   "execution_count": 15,
   "metadata": {},
   "outputs": [],
   "source": [
    "fullDataFrames['DOMAINID'] = fullDataFrames['DOMAINID'].replace(\n",
    "    fullDataFrames['DOMAINID'].drop_duplicates().values[6], \n",
    "    fullDataFrames['DOMAINID'].drop_duplicates().values[5])"
   ]
  },
  {
   "cell_type": "code",
   "execution_count": 16,
   "metadata": {},
   "outputs": [
    {
     "data": {
      "text/plain": [
       "B    15826\n",
       "A    15726\n",
       "D    14949\n",
       "E    11087\n",
       "I     8131\n",
       "F     7859\n",
       "G     7113\n",
       "H     4949\n",
       "C     4773\n",
       "Name: DOMAINID, dtype: int64"
      ]
     },
     "execution_count": 16,
     "metadata": {},
     "output_type": "execute_result"
    }
   ],
   "source": [
    "fullDataFrames['DOMAINID'].value_counts()"
   ]
  },
  {
   "cell_type": "code",
   "execution_count": 17,
   "metadata": {},
   "outputs": [
    {
     "data": {
      "text/html": [
       "<div>\n",
       "<style scoped>\n",
       "    .dataframe tbody tr th:only-of-type {\n",
       "        vertical-align: middle;\n",
       "    }\n",
       "\n",
       "    .dataframe tbody tr th {\n",
       "        vertical-align: top;\n",
       "    }\n",
       "\n",
       "    .dataframe thead th {\n",
       "        text-align: right;\n",
       "    }\n",
       "</style>\n",
       "<table border=\"1\" class=\"dataframe\">\n",
       "  <thead>\n",
       "    <tr style=\"text-align: right;\">\n",
       "      <th></th>\n",
       "      <th>SENTENCE</th>\n",
       "      <th>DOMAINID</th>\n",
       "    </tr>\n",
       "  </thead>\n",
       "  <tbody>\n",
       "  </tbody>\n",
       "</table>\n",
       "</div>"
      ],
      "text/plain": [
       "Empty DataFrame\n",
       "Columns: [SENTENCE, DOMAINID]\n",
       "Index: []"
      ]
     },
     "execution_count": 17,
     "metadata": {},
     "output_type": "execute_result"
    }
   ],
   "source": [
    "splitedDataFrame = pd.DataFrame(columns=['SENTENCE', 'DOMAINID'])\n",
    "splitedDataFrame"
   ]
  },
  {
   "cell_type": "code",
   "execution_count": 18,
   "metadata": {},
   "outputs": [
    {
     "data": {
      "text/html": [
       "<div>\n",
       "<style scoped>\n",
       "    .dataframe tbody tr th:only-of-type {\n",
       "        vertical-align: middle;\n",
       "    }\n",
       "\n",
       "    .dataframe tbody tr th {\n",
       "        vertical-align: top;\n",
       "    }\n",
       "\n",
       "    .dataframe thead th {\n",
       "        text-align: right;\n",
       "    }\n",
       "</style>\n",
       "<table border=\"1\" class=\"dataframe\">\n",
       "  <thead>\n",
       "    <tr style=\"text-align: right;\">\n",
       "      <th></th>\n",
       "      <th>SENTENCE</th>\n",
       "      <th>DOMAINID</th>\n",
       "    </tr>\n",
       "  </thead>\n",
       "  <tbody>\n",
       "    <tr>\n",
       "      <th>0</th>\n",
       "      <td>지금 배달되나요?</td>\n",
       "      <td>A</td>\n",
       "    </tr>\n",
       "    <tr>\n",
       "      <th>1</th>\n",
       "      <td>아 네 배달됩니다</td>\n",
       "      <td>A</td>\n",
       "    </tr>\n",
       "  </tbody>\n",
       "</table>\n",
       "</div>"
      ],
      "text/plain": [
       "    SENTENCE DOMAINID\n",
       "0  지금 배달되나요?        A\n",
       "1  아 네 배달됩니다        A"
      ]
     },
     "execution_count": 18,
     "metadata": {},
     "output_type": "execute_result"
    }
   ],
   "source": [
    "splitedDataFrame = fullDataFrames[['SENTENCE', 'DOMAINID']]\n",
    "splitedDataFrame.head(2)"
   ]
  },
  {
   "cell_type": "code",
   "execution_count": 19,
   "metadata": {},
   "outputs": [
    {
     "data": {
      "text/plain": [
       "90413"
      ]
     },
     "execution_count": 19,
     "metadata": {},
     "output_type": "execute_result"
    }
   ],
   "source": [
    "splitedDataFrame['SENTENCE'].size"
   ]
  },
  {
   "cell_type": "code",
   "execution_count": 20,
   "metadata": {},
   "outputs": [
    {
     "data": {
      "text/html": [
       "<div>\n",
       "<style scoped>\n",
       "    .dataframe tbody tr th:only-of-type {\n",
       "        vertical-align: middle;\n",
       "    }\n",
       "\n",
       "    .dataframe tbody tr th {\n",
       "        vertical-align: top;\n",
       "    }\n",
       "\n",
       "    .dataframe thead th {\n",
       "        text-align: right;\n",
       "    }\n",
       "</style>\n",
       "<table border=\"1\" class=\"dataframe\">\n",
       "  <thead>\n",
       "    <tr style=\"text-align: right;\">\n",
       "      <th></th>\n",
       "      <th>SENTENCE</th>\n",
       "      <th>DOMAINID</th>\n",
       "    </tr>\n",
       "  </thead>\n",
       "  <tbody>\n",
       "    <tr>\n",
       "      <th>90411</th>\n",
       "      <td>지금 가장 싼 토지 매물 한 번 보여주실래요?</td>\n",
       "      <td>I</td>\n",
       "    </tr>\n",
       "    <tr>\n",
       "      <th>90412</th>\n",
       "      <td>평당 90만으로 괜찮은 곳 있어요?</td>\n",
       "      <td>I</td>\n",
       "    </tr>\n",
       "  </tbody>\n",
       "</table>\n",
       "</div>"
      ],
      "text/plain": [
       "                        SENTENCE DOMAINID\n",
       "90411  지금 가장 싼 토지 매물 한 번 보여주실래요?        I\n",
       "90412        평당 90만으로 괜찮은 곳 있어요?        I"
      ]
     },
     "execution_count": 20,
     "metadata": {},
     "output_type": "execute_result"
    }
   ],
   "source": [
    "splitedDataFrame.tail(2)"
   ]
  },
  {
   "cell_type": "code",
   "execution_count": 21,
   "metadata": {},
   "outputs": [
    {
     "data": {
      "text/plain": [
       "SENTENCE    object\n",
       "DOMAINID    object\n",
       "dtype: object"
      ]
     },
     "execution_count": 21,
     "metadata": {},
     "output_type": "execute_result"
    }
   ],
   "source": [
    "splitedDataFrame.dtypes"
   ]
  },
  {
   "cell_type": "markdown",
   "metadata": {},
   "source": [
    "- 라벨 one hot encoding 작업"
   ]
  },
  {
   "cell_type": "code",
   "execution_count": 22,
   "metadata": {},
   "outputs": [
    {
     "data": {
      "text/html": [
       "<div>\n",
       "<style scoped>\n",
       "    .dataframe tbody tr th:only-of-type {\n",
       "        vertical-align: middle;\n",
       "    }\n",
       "\n",
       "    .dataframe tbody tr th {\n",
       "        vertical-align: top;\n",
       "    }\n",
       "\n",
       "    .dataframe thead th {\n",
       "        text-align: right;\n",
       "    }\n",
       "</style>\n",
       "<table border=\"1\" class=\"dataframe\">\n",
       "  <thead>\n",
       "    <tr style=\"text-align: right;\">\n",
       "      <th></th>\n",
       "      <th>SENTENCE</th>\n",
       "      <th>DOMAINID_A</th>\n",
       "      <th>DOMAINID_B</th>\n",
       "      <th>DOMAINID_C</th>\n",
       "      <th>DOMAINID_D</th>\n",
       "      <th>DOMAINID_E</th>\n",
       "      <th>DOMAINID_F</th>\n",
       "      <th>DOMAINID_G</th>\n",
       "      <th>DOMAINID_H</th>\n",
       "      <th>DOMAINID_I</th>\n",
       "    </tr>\n",
       "  </thead>\n",
       "  <tbody>\n",
       "    <tr>\n",
       "      <th>0</th>\n",
       "      <td>지금 배달되나요?</td>\n",
       "      <td>1</td>\n",
       "      <td>0</td>\n",
       "      <td>0</td>\n",
       "      <td>0</td>\n",
       "      <td>0</td>\n",
       "      <td>0</td>\n",
       "      <td>0</td>\n",
       "      <td>0</td>\n",
       "      <td>0</td>\n",
       "    </tr>\n",
       "    <tr>\n",
       "      <th>1</th>\n",
       "      <td>아 네 배달됩니다</td>\n",
       "      <td>1</td>\n",
       "      <td>0</td>\n",
       "      <td>0</td>\n",
       "      <td>0</td>\n",
       "      <td>0</td>\n",
       "      <td>0</td>\n",
       "      <td>0</td>\n",
       "      <td>0</td>\n",
       "      <td>0</td>\n",
       "    </tr>\n",
       "  </tbody>\n",
       "</table>\n",
       "</div>"
      ],
      "text/plain": [
       "    SENTENCE  DOMAINID_A  DOMAINID_B  DOMAINID_C  DOMAINID_D  DOMAINID_E  \\\n",
       "0  지금 배달되나요?           1           0           0           0           0   \n",
       "1  아 네 배달됩니다           1           0           0           0           0   \n",
       "\n",
       "   DOMAINID_F  DOMAINID_G  DOMAINID_H  DOMAINID_I  \n",
       "0           0           0           0           0  \n",
       "1           0           0           0           0  "
      ]
     },
     "execution_count": 22,
     "metadata": {},
     "output_type": "execute_result"
    }
   ],
   "source": [
    "splitedDataFrame = pd.get_dummies(splitedDataFrame, columns=[\"DOMAINID\"])\n",
    "splitedDataFrame.head(2)"
   ]
  },
  {
   "cell_type": "code",
   "execution_count": 23,
   "metadata": {},
   "outputs": [
    {
     "data": {
      "text/html": [
       "<div>\n",
       "<style scoped>\n",
       "    .dataframe tbody tr th:only-of-type {\n",
       "        vertical-align: middle;\n",
       "    }\n",
       "\n",
       "    .dataframe tbody tr th {\n",
       "        vertical-align: top;\n",
       "    }\n",
       "\n",
       "    .dataframe thead th {\n",
       "        text-align: right;\n",
       "    }\n",
       "</style>\n",
       "<table border=\"1\" class=\"dataframe\">\n",
       "  <thead>\n",
       "    <tr style=\"text-align: right;\">\n",
       "      <th></th>\n",
       "      <th>SENTENCE</th>\n",
       "      <th>DOMAINID_A</th>\n",
       "      <th>DOMAINID_B</th>\n",
       "      <th>DOMAINID_C</th>\n",
       "      <th>DOMAINID_D</th>\n",
       "      <th>DOMAINID_E</th>\n",
       "      <th>DOMAINID_F</th>\n",
       "      <th>DOMAINID_G</th>\n",
       "      <th>DOMAINID_H</th>\n",
       "      <th>DOMAINID_I</th>\n",
       "    </tr>\n",
       "  </thead>\n",
       "  <tbody>\n",
       "    <tr>\n",
       "      <th>90411</th>\n",
       "      <td>지금 가장 싼 토지 매물 한 번 보여주실래요?</td>\n",
       "      <td>0</td>\n",
       "      <td>0</td>\n",
       "      <td>0</td>\n",
       "      <td>0</td>\n",
       "      <td>0</td>\n",
       "      <td>0</td>\n",
       "      <td>0</td>\n",
       "      <td>0</td>\n",
       "      <td>1</td>\n",
       "    </tr>\n",
       "    <tr>\n",
       "      <th>90412</th>\n",
       "      <td>평당 90만으로 괜찮은 곳 있어요?</td>\n",
       "      <td>0</td>\n",
       "      <td>0</td>\n",
       "      <td>0</td>\n",
       "      <td>0</td>\n",
       "      <td>0</td>\n",
       "      <td>0</td>\n",
       "      <td>0</td>\n",
       "      <td>0</td>\n",
       "      <td>1</td>\n",
       "    </tr>\n",
       "  </tbody>\n",
       "</table>\n",
       "</div>"
      ],
      "text/plain": [
       "                        SENTENCE  DOMAINID_A  DOMAINID_B  DOMAINID_C  \\\n",
       "90411  지금 가장 싼 토지 매물 한 번 보여주실래요?           0           0           0   \n",
       "90412        평당 90만으로 괜찮은 곳 있어요?           0           0           0   \n",
       "\n",
       "       DOMAINID_D  DOMAINID_E  DOMAINID_F  DOMAINID_G  DOMAINID_H  DOMAINID_I  \n",
       "90411           0           0           0           0           0           1  \n",
       "90412           0           0           0           0           0           1  "
      ]
     },
     "execution_count": 23,
     "metadata": {},
     "output_type": "execute_result"
    }
   ],
   "source": [
    "splitedDataFrame.tail(2)"
   ]
  },
  {
   "cell_type": "code",
   "execution_count": 24,
   "metadata": {},
   "outputs": [
    {
     "data": {
      "text/html": [
       "<div>\n",
       "<style scoped>\n",
       "    .dataframe tbody tr th:only-of-type {\n",
       "        vertical-align: middle;\n",
       "    }\n",
       "\n",
       "    .dataframe tbody tr th {\n",
       "        vertical-align: top;\n",
       "    }\n",
       "\n",
       "    .dataframe thead th {\n",
       "        text-align: right;\n",
       "    }\n",
       "</style>\n",
       "<table border=\"1\" class=\"dataframe\">\n",
       "  <thead>\n",
       "    <tr style=\"text-align: right;\">\n",
       "      <th></th>\n",
       "      <th>SENTENCE</th>\n",
       "      <th>DOMAINID_A</th>\n",
       "      <th>DOMAINID_B</th>\n",
       "      <th>DOMAINID_C</th>\n",
       "      <th>DOMAINID_D</th>\n",
       "      <th>DOMAINID_E</th>\n",
       "      <th>DOMAINID_F</th>\n",
       "      <th>DOMAINID_G</th>\n",
       "      <th>DOMAINID_H</th>\n",
       "      <th>DOMAINID_I</th>\n",
       "    </tr>\n",
       "  </thead>\n",
       "  <tbody>\n",
       "    <tr>\n",
       "      <th>35000</th>\n",
       "      <td>성인도 수강 되는건가요?</td>\n",
       "      <td>0</td>\n",
       "      <td>0</td>\n",
       "      <td>1</td>\n",
       "      <td>0</td>\n",
       "      <td>0</td>\n",
       "      <td>0</td>\n",
       "      <td>0</td>\n",
       "      <td>0</td>\n",
       "      <td>0</td>\n",
       "    </tr>\n",
       "    <tr>\n",
       "      <th>35001</th>\n",
       "      <td>네 들어오세요</td>\n",
       "      <td>0</td>\n",
       "      <td>0</td>\n",
       "      <td>1</td>\n",
       "      <td>0</td>\n",
       "      <td>0</td>\n",
       "      <td>0</td>\n",
       "      <td>0</td>\n",
       "      <td>0</td>\n",
       "      <td>0</td>\n",
       "    </tr>\n",
       "    <tr>\n",
       "      <th>35002</th>\n",
       "      <td>일주일에 며칠 수강하나요?</td>\n",
       "      <td>0</td>\n",
       "      <td>0</td>\n",
       "      <td>1</td>\n",
       "      <td>0</td>\n",
       "      <td>0</td>\n",
       "      <td>0</td>\n",
       "      <td>0</td>\n",
       "      <td>0</td>\n",
       "      <td>0</td>\n",
       "    </tr>\n",
       "  </tbody>\n",
       "</table>\n",
       "</div>"
      ],
      "text/plain": [
       "             SENTENCE  DOMAINID_A  DOMAINID_B  DOMAINID_C  DOMAINID_D  \\\n",
       "35000   성인도 수강 되는건가요?           0           0           1           0   \n",
       "35001         네 들어오세요           0           0           1           0   \n",
       "35002  일주일에 며칠 수강하나요?           0           0           1           0   \n",
       "\n",
       "       DOMAINID_E  DOMAINID_F  DOMAINID_G  DOMAINID_H  DOMAINID_I  \n",
       "35000           0           0           0           0           0  \n",
       "35001           0           0           0           0           0  \n",
       "35002           0           0           0           0           0  "
      ]
     },
     "execution_count": 24,
     "metadata": {},
     "output_type": "execute_result"
    }
   ],
   "source": [
    "splitedDataFrame[35000:35003]"
   ]
  },
  {
   "cell_type": "markdown",
   "metadata": {},
   "source": [
    "- 입력 문장 오타 수정 작업\n",
    "\n",
    "맞춤법에 맞게 수정함으로서 정확도를 높일 수 있지 않을까 하는 생각에 진행"
   ]
  },
  {
   "cell_type": "code",
   "execution_count": 25,
   "metadata": {},
   "outputs": [
    {
     "data": {
      "text/plain": [
       "Checked(result=True, original='안녕하세요.저는한국인입니다.이문장은한글로작성됬습니다.', checked='안녕하세요. 저는 한국인입니다. 이 문장은 한글로 작성됐습니다.', errors=1, words=OrderedDict([('안녕하세요.', 1), ('저는', 1), ('한국인입니다.', 1), ('이', 1), ('문장은', 1), ('한글로', 1), ('작성됐습니다.', 1)]), time=0.12406539916992188)"
      ]
     },
     "execution_count": 25,
     "metadata": {},
     "output_type": "execute_result"
    }
   ],
   "source": [
    "spell_checker.check('안녕하세요.저는한국인입니다.이문장은한글로작성됬습니다.')"
   ]
  },
  {
   "cell_type": "code",
   "execution_count": 26,
   "metadata": {},
   "outputs": [
    {
     "data": {
      "text/plain": [
       "'안녕하세요. 저는 한국인입니다. 이 문장은 한글로 작성됐습니다.'"
      ]
     },
     "execution_count": 26,
     "metadata": {},
     "output_type": "execute_result"
    }
   ],
   "source": [
    "spell_checker.check('안녕하세요.저는한국인입니다.이문장은한글로작성됬습니다.').checked"
   ]
  },
  {
   "cell_type": "code",
   "execution_count": 27,
   "metadata": {},
   "outputs": [],
   "source": [
    "# spellCheckedList = spell_checker.check(list(splitedDataFrame['SENTENCE']))"
   ]
  },
  {
   "cell_type": "markdown",
   "metadata": {},
   "source": [
    "너무 오래 걸림\n",
    "\n",
    "## 네이버 맞춤법 검사기 이용 로직을 직접 짜기"
   ]
  },
  {
   "cell_type": "code",
   "execution_count": 28,
   "metadata": {},
   "outputs": [],
   "source": [
    "test_sentence = '안녕하세요.저는한국인입니다.이문장은한글로작성됬습니다.'\n",
    "URL = f'https://m.search.naver.com/p/csearch/ocontent/util/SpellerProxy?q={test_sentence}&where=nexearch&color_blindness=1'\n",
    "reqQuery = parse.urlencode(parse.parse_qs(parse.urlparse(URL).query))"
   ]
  },
  {
   "cell_type": "code",
   "execution_count": 29,
   "metadata": {},
   "outputs": [
    {
     "data": {
      "text/plain": [
       "(200,\n",
       " '{\"message\":{\"result\":{\"errata_count\":1,\"origin_html\":\"<span class=\\'result_underline\\'>안녕하세요.저는한국인입니다.이문장은한글로작성됬습니다.</span>\",\"html\":\"<em class=\\'grammar\\'>안녕하세요. 저는 한국인입니다. 이 문장은 한글로 작성됐습니다.</em>\",\"notag_html\":\"안녕하세요. 저는 한국인입니다. 이 문장은 한글로 작성됐습니다.\"}}}')"
      ]
     },
     "execution_count": 29,
     "metadata": {},
     "output_type": "execute_result"
    }
   ],
   "source": [
    "#f'https://m.search.naver.com/p/csearch/ocontent/util/SpellerProxy?{reqQuery}'\n",
    "response = requests.get(URL)\n",
    "response.status_code,response.text"
   ]
  },
  {
   "cell_type": "code",
   "execution_count": 30,
   "metadata": {},
   "outputs": [
    {
     "data": {
      "text/plain": [
       "0"
      ]
     },
     "execution_count": 30,
     "metadata": {},
     "output_type": "execute_result"
    }
   ],
   "source": [
    "processQueue = Queue()\n",
    "processQueue.qsize()"
   ]
  },
  {
   "cell_type": "code",
   "execution_count": 31,
   "metadata": {},
   "outputs": [],
   "source": [
    "def clean_text(inputString):\n",
    "    text_rmv = re.sub('[-=+,#/\\?:^.@*\\\"※~ㆍ!』‘|\\(\\)\\[\\]`\\'…》\\”\\“\\’·\\s]', '', inputString)\n",
    "    return text_rmv"
   ]
  },
  {
   "cell_type": "code",
   "execution_count": 32,
   "metadata": {},
   "outputs": [],
   "source": [
    "def naver_spell_checker(idx, sentence, use_clean_sentence = True, queue = None):\n",
    "    URL = f'https://m.search.naver.com/p/csearch/ocontent/util/SpellerProxy?q={clean_text(sentence) if use_clean_sentence else sentence}&where=nexearch&color_blindness=1'\n",
    "    response = requests.get(URL)\n",
    "    if response.status_code == 200:\n",
    "        data = json.loads(response.text)\n",
    "        if 'message' in data and \\\n",
    "            'result' in data['message'] and \\\n",
    "            'notag_html' in data['message']['result'] and \\\n",
    "            data['message']['result']['notag_html'] is not None:\n",
    "            if queue:\n",
    "                queue.put((idx, sentence, data['message']['result']['notag_html']))\n",
    "            return data['message']['result']['notag_html']\n",
    "        else:\n",
    "            print(f'Response error detected. #{idx} sentence: {sentence}')\n",
    "            print(f'#{idx} response text:', response.text)\n",
    "            if queue:\n",
    "                queue.put((idx, sentence, None))\n",
    "            return None\n",
    "    else:\n",
    "        print(f'HTTP Code {response.status_code} != 200, #{idx} sentence: {sentence}')\n",
    "        if queue:\n",
    "            queue.put((idx, sentence, None))\n",
    "        return None"
   ]
  },
  {
   "cell_type": "code",
   "execution_count": 33,
   "metadata": {},
   "outputs": [
    {
     "data": {
      "text/plain": [
       "'안녕하세요 저는 한국인입니다 이 문장은 한글로 작성됐습니다'"
      ]
     },
     "execution_count": 33,
     "metadata": {},
     "output_type": "execute_result"
    }
   ],
   "source": [
    "naver_spell_checker(0, '안녕하세요.저는한국인입니다.이문장은한글로작성됬습니다.')"
   ]
  },
  {
   "cell_type": "code",
   "execution_count": 34,
   "metadata": {},
   "outputs": [
    {
     "name": "stdout",
     "output_type": "stream",
     "text": [
      "   1    2    3    4    5    6    7    8    9   10 \n",
      "  11   12   13   14   15   16   17   18   19   20 \n",
      "  21   22   23   24   25   26   27   28   29   30 \n",
      "  31   32   33   34   35   36   37   38   39   40 \n",
      "  41   42   43   44   45   46   47   48   49   50 \n",
      "  51   52   53   54   55   56   57   58   59   60 \n",
      "  61   62   63   64   65   66   67   68   69   70 \n",
      "  71   72   73   74   75   76   77   78   79   80 \n",
      "  81   82   83   84   85   86   87   88   89   90 \n",
      "  91   92   93   94   95   96   97   98   99  100 \n",
      " 101 \n"
     ]
    }
   ],
   "source": [
    "reqNum = 10\n",
    "dataSize = 101 #splitedDataFrame['SENTENCE'].size\n",
    "\n",
    "for pid in range(math.ceil(dataSize / reqNum)):\n",
    "    start = pid * reqNum + 1\n",
    "    if start + reqNum > dataSize:\n",
    "        end = dataSize + 1\n",
    "    else:\n",
    "        end = start + reqNum\n",
    "    processList = []\n",
    "    for idx in range(start, end):\n",
    "        print(f'{idx:>4d}', end=' ')\n",
    "    print()\n",
    "#     proc = Process(target=naver_spell_checker, args=(splitedDataFrame['SENTENCE'][pid]))\n",
    "#     proc.start()\n",
    "#     processList.append(proc)"
   ]
  },
  {
   "cell_type": "markdown",
   "metadata": {},
   "source": [
    "## Process 사용하여 멀티프로세싱 작업\n",
    "\n",
    "HTTP 통신이 필요한 작업이므로 좀 더 빠른 처리를 위해 동시 요청을 보내 교정작업이 이루어질 수 있도록 구현\n",
    "\n",
    "### 만약 싱글 프로세싱 방식이었다면?"
   ]
  },
  {
   "cell_type": "code",
   "execution_count": 35,
   "metadata": {},
   "outputs": [
    {
     "name": "stdout",
     "output_type": "stream",
     "text": [
      "지금 배달되나요\n",
      "아 네 배달됩니다\n",
      "짬뽕류는 어떤 게 있나요 잘나가는 짬뽕 있나요\n",
      "특해물짬뽕도있고전복새우짬뽕도있고해물종류도새우홍합전복없는게없습니다\n",
      "전복들어가는거는특해물짬뽕시켜야돼요\n",
      "전복 짬뽕 시키면 전복이 들어가죠\n",
      "전복 들어가고 여러 가지 또 딴 것도 들어가죠\n",
      "네네\n",
      "마찰이 짬뽕밥은 돼지고기 들어가나요\n",
      "짬뽕은 돼지고기 약간씩 들어갑니다\n",
      "여기 주소인데 배달되나요\n",
      "주소는 안됩니다\n",
      "중국집 명성리죠 배달 지금 가능한가요\n",
      "예 배달 가능합니다\n",
      "주로 어떤 게 잘나가요\n",
      "탕수육에 짜장이나 짬뽕 세트가 잘나가죠\n",
      "4인이 먹을 수 있을까요\n",
      "네 명 드시기엔 세트가 양이 적어요 네 명 드시려면 탕수육 중자는 가야죠\n",
      "중자는 얼마예요\n",
      "중자는 2만 2천 원요\n",
      "탕수육에 들어가는 고기가 돼지고기죠\n",
      "Elapsed time during the whole program in seconds: 0.2618252820000002\n"
     ]
    }
   ],
   "source": [
    "t1_start = process_time()\n",
    "for idx in range(21):\n",
    "    print(naver_spell_checker(idx, splitedDataFrame['SENTENCE'][idx]))\n",
    "t1_stop = process_time()\n",
    "print(\"Elapsed time during the whole program in seconds:\", t1_stop - t1_start)"
   ]
  },
  {
   "cell_type": "markdown",
   "metadata": {},
   "source": [
    "### 만약 멀티 프로세싱 방식이라면?"
   ]
  },
  {
   "cell_type": "code",
   "execution_count": 36,
   "metadata": {},
   "outputs": [
    {
     "data": {
      "text/plain": [
       "0"
      ]
     },
     "execution_count": 36,
     "metadata": {},
     "output_type": "execute_result"
    }
   ],
   "source": [
    "while not processQueue.empty():\n",
    "    try:\n",
    "        processQueue.get(False)\n",
    "    except Empty:\n",
    "        continue\n",
    "#     processQueue.task_done()\n",
    "processQueue.qsize()"
   ]
  },
  {
   "cell_type": "code",
   "execution_count": 37,
   "metadata": {},
   "outputs": [],
   "source": [
    "reqNum = 10\n",
    "dataSize = 21 #splitedDataFrame['SENTENCE'].size\n",
    "t1_start = process_time()\n",
    "\n",
    "for pid in range(math.ceil(dataSize / reqNum)):\n",
    "    start = pid * reqNum + 1\n",
    "    if start + reqNum > dataSize:\n",
    "        end = dataSize + 1\n",
    "    else:\n",
    "        end = start + reqNum\n",
    "    processList = []\n",
    "    for idx in range(start, end):\n",
    "        proc = Process(target=naver_spell_checker, args=(idx, splitedDataFrame['SENTENCE'][idx], False, processQueue))\n",
    "        proc.start()\n",
    "        processList.append(proc)\n",
    "    for proc in processList:\n",
    "        proc.join()\n",
    "t1_stop = process_time()"
   ]
  },
  {
   "cell_type": "code",
   "execution_count": 38,
   "metadata": {},
   "outputs": [
    {
     "name": "stdout",
     "output_type": "stream",
     "text": [
      "(1, '아 네 배달됩니다', '아 네 배달됩니다')\n",
      "(2, '짬뽕류는 어떤 게 있나요? 잘 나가는 짬뽕 있나요?', '짬뽕류는 어떤 게 있나요? 잘나가는 짬뽕 있나요?')\n",
      "(5, '전복 짬뽕 시키면 전복이 들어가죠', '전복 짬뽕 시키면 전복이 들어가죠')\n",
      "(4, '전복 들어가는 거는 특해물 짬뽕 시켜야 돼요?', '전복 들어가는 거는 특해물 짬뽕 시켜야 돼요?')\n",
      "(3, '특해물 짬뽕도 있고 전복 새우 짬뽕도 있고 해물 종류도 새우 홍합 전복 없는 게 없습니다', '특해물 짬뽕도 있고 전복 새우 짬뽕도 있고 해물 종류도 새우 홍합 전복 없는 게 없습니다')\n",
      "(6, '전복 들어가고 여러 가지 또 딴 것도 들어가죠?', '전복 들어가고 여러 가지 또 딴 것도 들어가죠?')\n",
      "(7, '네네', '네네')\n",
      "(10, '여기 #주소#인데 배달되나요?', '여기 ')\n",
      "(9, '짬뽕은 돼지고기 약간씩 들어갑니다', '짬뽕은 돼지고기 약간씩 들어갑니다')\n",
      "(8, '마차이 짬뽕밥은 돼지고기 들어가나요?', '마찰이 짬뽕밥은 돼지고기 들어가나요?')\n",
      "(11, '#주소#는 안됩니다', '')\n",
      "(13, '예 배달 가능합니다', '예 배달 가능합니다')\n",
      "(14, '주로 어떤 게 잘 나가요?', '주로 어떤 게 잘나가요?')\n",
      "(12, '중국집 명성루죠? 배달 지금 가능한가요?', '중국집 명성 누죠? 배달 지금 가능한가요?')\n",
      "(15, '탕수육에 짜장이나 짬뽕 세트가 잘 나가죠 ', '탕수육에 짜장이나 짬뽕 세트가 잘나가죠 ')\n",
      "(16, '4인이 먹을 수 있을까요?', '4인이 먹을 수 있을까요?')\n",
      "(17, '네 명 드시기엔 세트가 양이 적어요 네 명 드시려면 탕수육 중자는 가야죠', '네 명 드시기엔 세트가 양이 적어요 네 명 드시려면 탕수육 중자는 가야죠')\n",
      "(18, '중자는 얼마에요?', '중자는 얼마예요?')\n",
      "(19, '중자는 2만 2천 원요', '중자는 2만 2천 원요')\n",
      "(20, '탕수육에 들어가는 고기가 돼지고기죠?', '탕수육에 들어가는 고기가 돼지고기죠?')\n",
      "(21, '어느 집이든지 다 돼지고기입니다', '어느 집이든지 다 돼지고기입니다')\n"
     ]
    }
   ],
   "source": [
    "while not processQueue.empty():\n",
    "    print(processQueue.get(0))"
   ]
  },
  {
   "cell_type": "code",
   "execution_count": 39,
   "metadata": {},
   "outputs": [
    {
     "name": "stdout",
     "output_type": "stream",
     "text": [
      "Elapsed time during the whole program in seconds: 0.18441167099999944\n"
     ]
    }
   ],
   "source": [
    "print(\"Elapsed time during the whole program in seconds:\", t1_stop - t1_start)"
   ]
  },
  {
   "cell_type": "markdown",
   "metadata": {},
   "source": [
    "- 싱글 프로세싱 시간: `0.27`s\n",
    "- 멀티 프로세싱 시간: `0.15`s\n",
    "\n",
    "해당 시간은 `21`건을 기준으로 하였으므로 현재 가지고 있는 데이터 `90413`건으로 예측한다면\n",
    "\n",
    "- 싱글 프로세싱 시간: `1162.45`s 약 19분\n",
    "- 멀티 프로세싱 시간: `645.80`s 약 10분\n",
    "\n",
    "으로 차이가 극명히 나기 시작함\n",
    "\n",
    "대신 정렬이 되어지지 않기 때문에 정렬 후처리가 필요하다는 단점 존재"
   ]
  },
  {
   "cell_type": "markdown",
   "metadata": {},
   "source": [
    "__위 내용에서 보면 `#주소#` 와 같이 특수문자가 들어간 내용의 맞춤법 검사 결과는 기존 문장을 삭제한 결과가 나오는 것을 확인 할 수 있음__\n",
    "\n",
    "특수문자에 대한 추가적인 전처리가 필요"
   ]
  },
  {
   "cell_type": "code",
   "execution_count": 40,
   "metadata": {},
   "outputs": [
    {
     "data": {
      "text/plain": [
       "0"
      ]
     },
     "execution_count": 40,
     "metadata": {},
     "output_type": "execute_result"
    }
   ],
   "source": [
    "while not processQueue.empty():\n",
    "    try:\n",
    "        processQueue.get(False)\n",
    "    except Empty:\n",
    "        continue\n",
    "#     processQueue.task_done()\n",
    "processQueue.qsize()"
   ]
  },
  {
   "cell_type": "code",
   "execution_count": 41,
   "metadata": {},
   "outputs": [],
   "source": [
    "reqNum = 10\n",
    "dataSize = 40 #splitedDataFrame['SENTENCE'].size\n",
    "\n",
    "for pid in range(math.ceil(dataSize / reqNum)):\n",
    "    start = pid * reqNum + 1\n",
    "    if start + reqNum > dataSize:\n",
    "        end = dataSize + 1\n",
    "    else:\n",
    "        end = start + reqNum\n",
    "    processList = []\n",
    "    for idx in range(start, end):\n",
    "        proc = Process(target=naver_spell_checker, args=(idx, splitedDataFrame['SENTENCE'][idx], True, processQueue))\n",
    "        proc.start()\n",
    "        processList.append(proc)\n",
    "    for proc in processList:\n",
    "        proc.join()"
   ]
  },
  {
   "cell_type": "code",
   "execution_count": 42,
   "metadata": {},
   "outputs": [
    {
     "name": "stdout",
     "output_type": "stream",
     "text": [
      "(1, '아 네 배달됩니다', '아 네 배달됩니다')\n",
      "(2, '짬뽕류는 어떤 게 있나요? 잘 나가는 짬뽕 있나요?', '짬뽕류는 어떤 게 있나요 잘나가는 짬뽕 있나요')\n",
      "(5, '전복 짬뽕 시키면 전복이 들어가죠', '전복 짬뽕 시키면 전복이 들어가죠')\n",
      "(7, '네네', '네네')\n",
      "(6, '전복 들어가고 여러 가지 또 딴 것도 들어가죠?', '전복 들어가고 여러 가지 또 딴 것도 들어가죠')\n",
      "(4, '전복 들어가는 거는 특해물 짬뽕 시켜야 돼요?', '전복들어가는거는특해물짬뽕시켜야돼요')\n",
      "(9, '짬뽕은 돼지고기 약간씩 들어갑니다', '짬뽕은 돼지고기 약간씩 들어갑니다')\n",
      "(10, '여기 #주소#인데 배달되나요?', '여기 주소인데 배달되나요')\n",
      "(3, '특해물 짬뽕도 있고 전복 새우 짬뽕도 있고 해물 종류도 새우 홍합 전복 없는 게 없습니다', '특해물짬뽕도있고전복새우짬뽕도있고해물종류도새우홍합전복없는게없습니다')\n",
      "(8, '마차이 짬뽕밥은 돼지고기 들어가나요?', '마찰이 짬뽕밥은 돼지고기 들어가나요')\n",
      "(11, '#주소#는 안됩니다', '주소는 안됩니다')\n",
      "(13, '예 배달 가능합니다', '예 배달 가능합니다')\n",
      "(14, '주로 어떤 게 잘 나가요?', '주로 어떤 게 잘나가요')\n",
      "(15, '탕수육에 짜장이나 짬뽕 세트가 잘 나가죠 ', '탕수육에 짜장이나 짬뽕 세트가 잘나가죠')\n",
      "(16, '4인이 먹을 수 있을까요?', '4인이 먹을 수 있을까요')\n",
      "(18, '중자는 얼마에요?', '중자는 얼마예요')\n",
      "(17, '네 명 드시기엔 세트가 양이 적어요 네 명 드시려면 탕수육 중자는 가야죠', '네 명 드시기엔 세트가 양이 적어요 네 명 드시려면 탕수육 중자는 가야죠')\n",
      "(19, '중자는 2만 2천 원요', '중자는 2만 2천 원요')\n",
      "(20, '탕수육에 들어가는 고기가 돼지고기죠?', '탕수육에 들어가는 고기가 돼지고기죠')\n",
      "(12, '중국집 명성루죠? 배달 지금 가능한가요?', '중국집 명성리죠 배달 지금 가능한가요')\n",
      "(21, '어느 집이든지 다 돼지고기입니다', '어느 집이든지 다 돼지고기입니다')\n",
      "(22, '그럼 국내산 쓰나요?', '그럼 국내산 쓰나요')\n",
      "(23, '예 돼지고기는 다 국내산입니다', '예 돼지고기는 다 국내산입니다')\n",
      "(26, '그러면 4인 가족이면 탕수육 하나에 딴 거 어떤 거 시켜요?', '그러면 4인 가족이면 탕수육 하나에 딴 거 어떤 거시 켜요')\n",
      "(24, '근데 칠리 탕수육도 있고 사천 탕수육도 있던데 어떤 게 나아요?', '근데 칠리 탕수육도 있고 사천 탕수육도 있던데 어떤 게 나아요')\n",
      "(25, '학생들은 칠리 좋아하고 일반 어른분들은 일반 탕수육 좋아합니다', '학생들은 칠리 좋아하고 일반 어른분들은 일반 탕수육 좋아합니다')\n",
      "(28, '해물짬뽕에 어떤 거 들어가요?', '해물짬뽕에 어떤 거들어가요')\n",
      "(29, '해물 여러 가지 들어가요', '해물 여러 가지 들어가요')\n",
      "(27, '짜장면 짬뽕 해물짬뽕 사람마다 좋아하시는 게 다 달라요', '짜장면짬뽕해물짬뽕사람마다좋아하시는게다달라요')\n",
      "(30, '예 얼마 정도 해요?', '예 얼마 정도 해요')\n",
      "(31, '해물짬뽕 보통 7500원짜리가 있어요', '해물짬뽕 보통 7500원짜리가 있어요')\n",
      "(32, '그러면 저희가 이거 지금 주문하면 몇 분 있으면 도착할까요?', '그러면 저희가 이거 지금 주문하면 몇 분 있으면 도착할까요')\n",
      "(33, '거기 위치가 어디인가요?', '거기 위치가 어디인가요')\n",
      "(34, '침산동 대구일중 근처요', '침산동 대구일 중 근처요')\n",
      "(36, '네 말씀 하세요', '네 말씀 하세요')\n",
      "(35, '지금 배달 가능한가요?', '지금 배달 가능한가요')\n",
      "(39, '얼큰이 짬뽕은 어떤 게 맵기가?', '얼큰이 짬뽕은 어떤 게 맵기가')\n",
      "(38, '새우부터 시작해서 여러 가지 들어가요', '새우부터 시작해서 여러 가지 들어가요')\n",
      "(40, '똑같아요 삼선짬뽕에서 조금 얼큰한 게 얼큰이 짬뽕이거든요', '똑같아요 삼 선 짬뽕에서 조금 얼큰한 게 얼큰이 짬뽕이거든요')\n",
      "(37, '네 제가 지금 전단지 보고 전화드리는 건데 삼선짬뽕에 들어가는 해물은 어떤 거 있어요?', '네 제가 지금 전단지 보고 전화드리는 건데 삼선짬뽕에 들어가는 해물은 어떤 거 있어요')\n"
     ]
    }
   ],
   "source": [
    "while not processQueue.empty():\n",
    "    print(processQueue.get(0))"
   ]
  },
  {
   "cell_type": "markdown",
   "metadata": {},
   "source": [
    "이상하게도 `잘 나가는` 용어가 맞춤법 검사를 하면 `잘나가는` 으로 수정하는 문제가 존재\n",
    "\n",
    "https://www.korean.go.kr/front/onlineQna/onlineQnaView.do?mn_id=216&qna_seq=112284\n",
    "\n",
    "국립국어원에선 `잘 나가는`을 적절한 용어라고 말하고 있음\n",
    "\n",
    "또한 특문 제거 로직에서 스페이스도 삭제하도록 하였더니 일부 문장에선 아예 맞춤법 검사가 실패한 모습을 볼 수 있음\n",
    "\n",
    "`특해물짬뽕도있고전복새우짬뽕도있고해물종류도새우홍합전복없는게없습니다`\n",
    "\n",
    "한국어 토큰 분리를 이용하여 해당 부분을 개선해보자!"
   ]
  },
  {
   "cell_type": "markdown",
   "metadata": {},
   "source": [
    "## 한국어 토큰 분리 모듈 사용\n",
    "\n",
    "https://github.com/lovit/customized_konlpy"
   ]
  },
  {
   "cell_type": "code",
   "execution_count": 43,
   "metadata": {},
   "outputs": [],
   "source": [
    "twitter = Twitter()"
   ]
  },
  {
   "cell_type": "code",
   "execution_count": 44,
   "metadata": {},
   "outputs": [
    {
     "data": {
      "text/plain": [
       "[('전복', 'Noun'),\n",
       " ('들', 'Verb'),\n",
       " ('어가', 'Noun'),\n",
       " ('는', 'Josa'),\n",
       " ('거는특', 'Noun'),\n",
       " ('해물짬뽕', 'Noun'),\n",
       " ('시켜야', 'Verb'),\n",
       " ('돼요', 'Verb')]"
      ]
     },
     "execution_count": 44,
     "metadata": {},
     "output_type": "execute_result"
    }
   ],
   "source": [
    "twitter.pos('전복들어가는거는특해물짬뽕시켜야돼요')"
   ]
  },
  {
   "cell_type": "code",
   "execution_count": 45,
   "metadata": {},
   "outputs": [
    {
     "data": {
      "text/plain": [
       "[('특', 'Noun'),\n",
       " ('해물짬뽕', 'Noun'),\n",
       " ('도', 'Josa'),\n",
       " ('있', 'Adjective'),\n",
       " ('고전', 'Noun'),\n",
       " ('복', 'Noun'),\n",
       " ('새우', 'Noun'),\n",
       " ('짬뽕', 'Noun'),\n",
       " ('도', 'Josa'),\n",
       " ('있고', 'Adjective'),\n",
       " ('해물', 'Noun'),\n",
       " ('종류', 'Noun'),\n",
       " ('도', 'Josa'),\n",
       " ('새우', 'Noun'),\n",
       " ('홍합', 'Noun'),\n",
       " ('전복', 'Noun'),\n",
       " ('없는게', 'Adjective'),\n",
       " ('없습니다', 'Adjective')]"
      ]
     },
     "execution_count": 45,
     "metadata": {},
     "output_type": "execute_result"
    }
   ],
   "source": [
    "twitter.pos('특해물짬뽕도있고전복새우짬뽕도있고해물종류도새우홍합전복없는게없습니다')"
   ]
  },
  {
   "cell_type": "code",
   "execution_count": 46,
   "metadata": {},
   "outputs": [
    {
     "data": {
      "text/plain": [
       "[('짜장면', 'Noun'),\n",
       " ('짬뽕', 'Noun'),\n",
       " ('해물짬뽕', 'Noun'),\n",
       " ('사람', 'Noun'),\n",
       " ('마다', 'Josa'),\n",
       " ('좋', 'Adjective'),\n",
       " ('아하', 'Noun'),\n",
       " ('시', 'Noun'),\n",
       " ('는', 'Josa'),\n",
       " ('게다', 'Noun'),\n",
       " ('달라', 'Noun'),\n",
       " ('요', 'Josa')]"
      ]
     },
     "execution_count": 46,
     "metadata": {},
     "output_type": "execute_result"
    }
   ],
   "source": [
    "twitter.pos('짜장면짬뽕해물짬뽕사람마다좋아하시는게다달라요')"
   ]
  },
  {
   "cell_type": "markdown",
   "metadata": {},
   "source": [
    "기본적인 토큰 분리로도 어느정도 잘 분리하는 모습을 확인 할 수 있음\n",
    "\n",
    "하지만 `전복들어가는거는특해물짬뽕시켜야돼요` 에서는 `전복`을 잘 분리한데 반해 \n",
    "\n",
    "`특해물짬뽕도있고전복새우짬뽕도있고해물종류도새우홍합전복없는게없습니다` 에선 `고전`, `복` 으로 각각의 단어로 분리한 모습을 확인 할 수 있음\n",
    "\n",
    "\n",
    "본 프로젝트에서 사용된 `customized KoNLPy` 는 임의의 사용자 사전을 추가할 수 있음\n",
    "\n",
    "### 사용자 사전 추가하기"
   ]
  },
  {
   "cell_type": "code",
   "execution_count": 47,
   "metadata": {},
   "outputs": [
    {
     "data": {
      "text/html": [
       "<div>\n",
       "<style scoped>\n",
       "    .dataframe tbody tr th:only-of-type {\n",
       "        vertical-align: middle;\n",
       "    }\n",
       "\n",
       "    .dataframe tbody tr th {\n",
       "        vertical-align: top;\n",
       "    }\n",
       "\n",
       "    .dataframe thead th {\n",
       "        text-align: right;\n",
       "    }\n",
       "</style>\n",
       "<table border=\"1\" class=\"dataframe\">\n",
       "  <thead>\n",
       "    <tr style=\"text-align: right;\">\n",
       "      <th></th>\n",
       "      <th>개체명</th>\n",
       "      <th>용어사전</th>\n",
       "      <th>지식베이스</th>\n",
       "    </tr>\n",
       "  </thead>\n",
       "  <tbody>\n",
       "    <tr>\n",
       "      <th>46035</th>\n",
       "      <td>파프리카,브로콜리</td>\n",
       "      <td>NaN</td>\n",
       "      <td>파프리카/채소 종류,브로콜리/채소 종류</td>\n",
       "    </tr>\n",
       "    <tr>\n",
       "      <th>46036</th>\n",
       "      <td>파프리카,브로콜리,주부님,인기</td>\n",
       "      <td>NaN</td>\n",
       "      <td>파프리카/채소 종류,브로콜리/채소 종류,주부님/호칭</td>\n",
       "    </tr>\n",
       "    <tr>\n",
       "      <th>46037</th>\n",
       "      <td>귤,소쿠리</td>\n",
       "      <td>소쿠리/바구니</td>\n",
       "      <td>귤/과일 종류,바구니/그릇 종류</td>\n",
       "    </tr>\n",
       "    <tr>\n",
       "      <th>46038</th>\n",
       "      <td>5천원</td>\n",
       "      <td>NaN</td>\n",
       "      <td>5천원/가격</td>\n",
       "    </tr>\n",
       "    <tr>\n",
       "      <th>46039</th>\n",
       "      <td>천혜향,박스</td>\n",
       "      <td>NaN</td>\n",
       "      <td>천혜향/귤 종류</td>\n",
       "    </tr>\n",
       "    <tr>\n",
       "      <th>46040</th>\n",
       "      <td>2만3천원,2만5천원,2만원</td>\n",
       "      <td>NaN</td>\n",
       "      <td>2만3천원/가격,2만5천원/가격,2만원/가격</td>\n",
       "    </tr>\n",
       "    <tr>\n",
       "      <th>46041</th>\n",
       "      <td>한라봉,2만3천원</td>\n",
       "      <td>NaN</td>\n",
       "      <td>한라봉/귤 종류,2만3천원/가격</td>\n",
       "    </tr>\n",
       "  </tbody>\n",
       "</table>\n",
       "</div>"
      ],
      "text/plain": [
       "                    개체명     용어사전                         지식베이스\n",
       "46035         파프리카,브로콜리      NaN         파프리카/채소 종류,브로콜리/채소 종류\n",
       "46036  파프리카,브로콜리,주부님,인기      NaN  파프리카/채소 종류,브로콜리/채소 종류,주부님/호칭\n",
       "46037             귤,소쿠리  소쿠리/바구니             귤/과일 종류,바구니/그릇 종류\n",
       "46038               5천원      NaN                        5천원/가격\n",
       "46039            천혜향,박스      NaN                      천혜향/귤 종류\n",
       "46040   2만3천원,2만5천원,2만원      NaN      2만3천원/가격,2만5천원/가격,2만원/가격\n",
       "46041         한라봉,2만3천원      NaN             한라봉/귤 종류,2만3천원/가격"
      ]
     },
     "execution_count": 47,
     "metadata": {},
     "output_type": "execute_result"
    }
   ],
   "source": [
    "custom_word_dict = fullDataFrames[['개체명', '용어사전', '지식베이스']]\n",
    "custom_word_dict[46035:46042]"
   ]
  },
  {
   "cell_type": "markdown",
   "metadata": {},
   "source": [
    "내용을 보면 `,`, `/` 를 이용하여 구분하고 있음"
   ]
  },
  {
   "cell_type": "code",
   "execution_count": 48,
   "metadata": {},
   "outputs": [
    {
     "name": "stderr",
     "output_type": "stream",
     "text": [
      "/usr/local/lib/python3.6/dist-packages/ipykernel_launcher.py:1: SettingWithCopyWarning: \n",
      "A value is trying to be set on a copy of a slice from a DataFrame.\n",
      "Try using .loc[row_indexer,col_indexer] = value instead\n",
      "\n",
      "See the caveats in the documentation: https://pandas.pydata.org/pandas-docs/stable/user_guide/indexing.html#returning-a-view-versus-a-copy\n",
      "  \"\"\"Entry point for launching an IPython kernel.\n"
     ]
    }
   ],
   "source": [
    "custom_word_dict['지식베이스'] = custom_word_dict['지식베이스'].replace(to_replace=r'/', value=',', regex=True)"
   ]
  },
  {
   "cell_type": "code",
   "execution_count": 49,
   "metadata": {},
   "outputs": [
    {
     "data": {
      "text/plain": [
       "['파프리카', '채소 종류', '브로콜리', '채소 종류']"
      ]
     },
     "execution_count": 49,
     "metadata": {},
     "output_type": "execute_result"
    }
   ],
   "source": [
    "custom_word_dict['지식베이스'][46035].split(',')"
   ]
  },
  {
   "cell_type": "code",
   "execution_count": 50,
   "metadata": {},
   "outputs": [
    {
     "data": {
      "text/plain": [
       "['5천원']"
      ]
     },
     "execution_count": 50,
     "metadata": {},
     "output_type": "execute_result"
    }
   ],
   "source": [
    "custom_word_dict['개체명'][46038].split(',')"
   ]
  },
  {
   "cell_type": "code",
   "execution_count": 51,
   "metadata": {},
   "outputs": [],
   "source": [
    "custom_columns = ['개체명', '용어사전', '지식베이스']"
   ]
  },
  {
   "cell_type": "code",
   "execution_count": 52,
   "metadata": {},
   "outputs": [
    {
     "data": {
      "text/plain": [
       "str"
      ]
     },
     "execution_count": 52,
     "metadata": {},
     "output_type": "execute_result"
    }
   ],
   "source": [
    "type(custom_word_dict['개체명'][0])"
   ]
  },
  {
   "cell_type": "code",
   "execution_count": 53,
   "metadata": {},
   "outputs": [],
   "source": [
    "addedWordList = []"
   ]
  },
  {
   "cell_type": "code",
   "execution_count": 54,
   "metadata": {},
   "outputs": [],
   "source": [
    "for row in range(custom_word_dict['개체명'].size):\n",
    "    for col in custom_columns:\n",
    "#         print(row, col, custom_word_dict[col][row])\n",
    "        if custom_word_dict[col][row] is not None and \\\n",
    "            type(custom_word_dict[col][row]) == str:\n",
    "            \n",
    "            words = custom_word_dict[col][row].split(',')\n",
    "#             print(words)\n",
    "            for word in words:\n",
    "                twitter.add_dictionary(word, 'Noun')\n",
    "                addedWordList.append(word)\n",
    "        break"
   ]
  },
  {
   "cell_type": "code",
   "execution_count": 55,
   "metadata": {},
   "outputs": [
    {
     "data": {
      "text/plain": [
       "140089"
      ]
     },
     "execution_count": 55,
     "metadata": {},
     "output_type": "execute_result"
    }
   ],
   "source": [
    "len(addedWordList)"
   ]
  },
  {
   "cell_type": "code",
   "execution_count": 56,
   "metadata": {},
   "outputs": [
    {
     "data": {
      "text/plain": [
       "[('전복', 'Noun'),\n",
       " ('들', 'Verb'),\n",
       " ('어가', 'Noun'),\n",
       " ('는', 'Josa'),\n",
       " ('거는특', 'Noun'),\n",
       " ('해물짬뽕', 'Noun'),\n",
       " ('시', 'Noun'),\n",
       " ('켜야', 'Verb'),\n",
       " ('돼요', 'Verb')]"
      ]
     },
     "execution_count": 56,
     "metadata": {},
     "output_type": "execute_result"
    }
   ],
   "source": [
    "twitter.pos('전복들어가는거는특해물짬뽕시켜야돼요')"
   ]
  },
  {
   "cell_type": "code",
   "execution_count": 57,
   "metadata": {},
   "outputs": [
    {
     "data": {
      "text/plain": [
       "[('특', 'Noun'),\n",
       " ('해물짬뽕', 'Noun'),\n",
       " ('도', 'Josa'),\n",
       " ('있', 'Adjective'),\n",
       " ('고전', 'Noun'),\n",
       " ('복', 'Noun'),\n",
       " ('새우', 'Noun'),\n",
       " ('짬뽕', 'Noun'),\n",
       " ('도', 'Josa'),\n",
       " ('있고', 'Adjective'),\n",
       " ('해물', 'Noun'),\n",
       " ('종류', 'Noun'),\n",
       " ('도', 'Josa'),\n",
       " ('새우', 'Noun'),\n",
       " ('홍합', 'Noun'),\n",
       " ('전복', 'Noun'),\n",
       " ('없는게', 'Adjective'),\n",
       " ('없습니다', 'Adjective')]"
      ]
     },
     "execution_count": 57,
     "metadata": {},
     "output_type": "execute_result"
    }
   ],
   "source": [
    "twitter.pos('특해물짬뽕도있고전복새우짬뽕도있고해물종류도새우홍합전복없는게없습니다')"
   ]
  },
  {
   "cell_type": "code",
   "execution_count": 58,
   "metadata": {},
   "outputs": [
    {
     "data": {
      "text/plain": [
       "[('짜장면', 'Noun'),\n",
       " ('짬뽕', 'Noun'),\n",
       " ('해물짬뽕', 'Noun'),\n",
       " ('사람', 'Noun'),\n",
       " ('마다', 'Josa'),\n",
       " ('좋', 'Adjective'),\n",
       " ('아하', 'Noun'),\n",
       " ('시', 'Noun'),\n",
       " ('는', 'Josa'),\n",
       " ('게다', 'Noun'),\n",
       " ('달라', 'Noun'),\n",
       " ('요', 'Josa')]"
      ]
     },
     "execution_count": 58,
     "metadata": {},
     "output_type": "execute_result"
    }
   ],
   "source": [
    "twitter.pos('짜장면짬뽕해물짬뽕사람마다좋아하시는게다달라요')"
   ]
  },
  {
   "cell_type": "markdown",
   "metadata": {},
   "source": [
    "그리 차이가 나진 않는데 이미 있는 단어 사전이 들어갔기 때문으로 추측됨\n",
    "\n",
    "실 예로 `뇌피셜`이란 단어는 존재하지 않아 해당 단어가 포함된 문장은 토큰 분리가 제데로 되어지지 않아\n",
    "\n",
    "단어를 임의로 추가 시켜주었더니 그 결과가 다르게 나오는 것을 확인 할 수 있음"
   ]
  },
  {
   "cell_type": "code",
   "execution_count": 59,
   "metadata": {},
   "outputs": [
    {
     "data": {
      "text/plain": [
       "[('이건', 'Noun'),\n",
       " ('내', 'Noun'),\n",
       " ('뇌', 'Noun'),\n",
       " ('피', 'Noun'),\n",
       " ('셜', 'Noun'),\n",
       " ('이', 'Noun'),\n",
       " ('긴', 'Noun'),\n",
       " ('한데', 'Eomi')]"
      ]
     },
     "execution_count": 59,
     "metadata": {},
     "output_type": "execute_result"
    }
   ],
   "source": [
    "twitter.pos('이건 내 뇌피셜이긴 한데')"
   ]
  },
  {
   "cell_type": "code",
   "execution_count": 60,
   "metadata": {},
   "outputs": [],
   "source": [
    "twitter.add_dictionary('뇌피셜', 'Noun')"
   ]
  },
  {
   "cell_type": "code",
   "execution_count": 61,
   "metadata": {},
   "outputs": [
    {
     "data": {
      "text/plain": [
       "[('이건', 'Noun'),\n",
       " ('내', 'Noun'),\n",
       " ('뇌피셜', 'Noun'),\n",
       " ('이', 'Noun'),\n",
       " ('긴', 'Verb'),\n",
       " ('한데', 'Eomi')]"
      ]
     },
     "execution_count": 61,
     "metadata": {},
     "output_type": "execute_result"
    }
   ],
   "source": [
    "twitter.pos('이건 내 뇌피셜이긴 한데')"
   ]
  },
  {
   "cell_type": "markdown",
   "metadata": {},
   "source": [
    "## N-Gram\n",
    "\n",
    "- bag of word가 단순 출현 수 만 보기 때문에 단어의 순서를 고려하지 않는 부분을 개선\n",
    "\n",
    "### 문자 단위 N-Gram"
   ]
  },
  {
   "cell_type": "code",
   "execution_count": 62,
   "metadata": {},
   "outputs": [
    {
     "data": {
      "text/plain": [
       "['짜장면',\n",
       " '장면짬',\n",
       " '면짬뽕',\n",
       " '짬뽕해',\n",
       " '뽕해물',\n",
       " '해물짬',\n",
       " '물짬뽕',\n",
       " '짬뽕사',\n",
       " '뽕사람',\n",
       " '사람마',\n",
       " '람마다',\n",
       " '마다좋',\n",
       " '다좋아',\n",
       " '좋아하',\n",
       " '아하시',\n",
       " '하시는',\n",
       " '시는게',\n",
       " '는게다',\n",
       " '게다달',\n",
       " '다달라',\n",
       " '달라요',\n",
       " '라요',\n",
       " '요']"
      ]
     },
     "execution_count": 62,
     "metadata": {},
     "output_type": "execute_result"
    }
   ],
   "source": [
    "ngram_sentence = '짜장면짬뽕해물짬뽕사람마다좋아하시는게다달라요'\n",
    "[word[:3] for word in ([ngram_sentence[i:] for i in range(len(ngram_sentence))])]"
   ]
  },
  {
   "cell_type": "code",
   "execution_count": 66,
   "metadata": {},
   "outputs": [
    {
     "name": "stdout",
     "output_type": "stream",
     "text": [
      "['짜장면', '짬뽕', '해물짬뽕', '사람', '마다', '좋', '아하', '시', '는', '게다', '달라', '요'] \n",
      "=======================\n",
      "('짜장면', '짬뽕') ('짬뽕', '해물짬뽕') ('해물짬뽕', '사람') ('사람', '마다') ('마다', '좋') ('좋', '아하') ('아하', '시') ('시', '는') ('는', '게다') ('게다', '달라') ('달라', '요') "
     ]
    }
   ],
   "source": [
    "parsedSentenceArray = [word[0] for word in twitter.pos('짜장면짬뽕해물짬뽕사람마다좋아하시는게다달라요')]\n",
    "print(parsedSentenceArray, '\\n=======================')\n",
    "for grams in ngrams(parsedSentenceArray, 2):\n",
    "    print(grams, end=' ')"
   ]
  },
  {
   "cell_type": "code",
   "execution_count": null,
   "metadata": {},
   "outputs": [],
   "source": []
  }
 ],
 "metadata": {
  "kernelspec": {
   "display_name": "Python 3",
   "language": "python",
   "name": "python3"
  },
  "language_info": {
   "codemirror_mode": {
    "name": "ipython",
    "version": 3
   },
   "file_extension": ".py",
   "mimetype": "text/x-python",
   "name": "python",
   "nbconvert_exporter": "python",
   "pygments_lexer": "ipython3",
   "version": "3.6.9"
  }
 },
 "nbformat": 4,
 "nbformat_minor": 4
}
