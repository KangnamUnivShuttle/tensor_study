{
 "cells": [
  {
   "cell_type": "markdown",
   "metadata": {},
   "source": [
    "## BPE\n",
    "\n",
    "byte paire encoding \n",
    "\n",
    "```\n",
    "aaabdaaabac\n",
    "```\n",
    "\n",
    "2 바이트씩 묶어서 압축\n",
    "\n",
    "위에서는 aa 패턴이 제일 많이 나왔으므로\n",
    "\n",
    "```\n",
    "YabdYabac\n",
    "```\n",
    "\n",
    "그 다음 알파벳 순으로 제일 많이 나온 ab\n",
    "\n",
    "```\n",
    "YXdYXac\n",
    "```\n",
    "\n",
    "그 다음 YX\n",
    "\n",
    "```\n",
    "ZdZac\n",
    "```\n",
    "\n",
    "이렇게 데이터 사전 크기가 원하는 크기가 될 때 까지 계속 반복하며 압축\n",
    "\n",
    "데이터 사전\n",
    "\n",
    "```\n",
    "a, b, c, d, Y, X, Z\n",
    "```\n",
    "\n",
    "ex)\n",
    "\n",
    "| token | count |\n",
    "|:-----:|:-----:|\n",
    "| hug | 10 |\n",
    "| pug | 5 |\n",
    "| pun | 12 |\n",
    "| bun | 4 |\n",
    "| hugs | 5 |\n",
    "\n",
    "pre-tokenized 결과에서 문자 로 분리\n",
    "\n",
    "| token | count |\n",
    "|:-----:|:-----:|\n",
    "| h, u, g | 10 |\n",
    "| p, u, g | 5 |\n",
    "| p, u, n | 12 |\n",
    "| b, u, n | 4 |\n",
    "| h, u, g, s | 5 |\n",
    "\n",
    "여기서 페어 별로 재정렬\n",
    "\n",
    "| token | count | sum |\n",
    "|:-----:|:-----:|:---:|\n",
    "| h, u | 10 + 5 | 15 |\n",
    "| u, g | 10 + 5 + 5 | 20 |\n",
    "| p, u | 5 + 12 | 17 |\n",
    "| ~~u, g~~ | 5 | |\n",
    "| ~~p, u~~ | 12 | |\n",
    "| u, n | 12 + 4 | 16 |\n",
    "| b, u | 4 | 4 |\n",
    "| ~~u, n~~ | 4 | |\n",
    "| ~~h, u~~ | 5 | |\n",
    "| ~~u, g~~ | 5 | |\n",
    "| g, s | 5 | 5 |\n",
    "\n",
    "u, g 패턴이 가장 많이 나왔으므로 어휘 사전에 추가\n",
    "\n",
    "(b, h, u, g, s, n, p, `ug`)\n",
    "\n",
    "위 어휘 사전을 참고하여 다시 문자별 분리\n",
    "\n",
    "| token | count |\n",
    "|:-----:|:-----:|\n",
    "| h, ug | 10 |\n",
    "| p, ug | 5 |\n",
    "| p, u, n | 12 |\n",
    "| b, u, n | 4 |\n",
    "| h, ug, s | 5 |\n",
    "\n",
    "다시 BPE 진행\n",
    "\n",
    "| token | count | sum |\n",
    "|:-----:|:-----:|:---:|\n",
    "| h, ug | 10 + 5 | 15 |\n",
    "| p, ug | 5 | 5 |\n",
    "| p, u | 12 | 12 |\n",
    "| u, n | 12 + 4 | 16 |\n",
    "| b, u | 4 | 4 |\n",
    "| ~~u, n~~ | 4 | |\n",
    "| ~~h, ug~~ | 5 | |\n",
    "| ug, s | 5 | 5 |\n",
    "\n",
    "가장 많이 나온 un 어휘 사전에 추가\n",
    "\n",
    "(b, h, u, g, s, n, p, ug, `un`)\n",
    "\n",
    "위 어휘 사전을 참고하여 다시 문자별 분리\n",
    "\n",
    "| token | count |\n",
    "|:-----:|:-----:|\n",
    "| h, ug | 10 |\n",
    "| p, ug | 5 |\n",
    "| p, un | 12 |\n",
    "| b, un | 4 |\n",
    "| h, ug, s | 5 |\n",
    "\n",
    "| token | count | sum |\n",
    "|:-----:|:-----:|:---:|\n",
    "| h, ug | 10 + 5 | 15 | \n",
    "| p, ug | 5 | 5 |\n",
    "| p, un | 12 | 12 |\n",
    "| b, un | 4 | 4 |\n",
    "| ~~h, ug~~ | 5 | |\n",
    "| ug, s | 5 | 5 |\n",
    "\n",
    "가장 많이 나온 hug 어휘 사전에 추가\n",
    "\n",
    "(b, h, u, g, s, n, p, ug, un, `hug`)\n",
    "\n",
    "위 과정을 원하는 어휘 사전 길이가 될 때 까지 반복"
   ]
  },
  {
   "cell_type": "markdown",
   "metadata": {},
   "source": [
    "## BPE 토큰화"
   ]
  },
  {
   "cell_type": "markdown",
   "metadata": {},
   "source": [
    "input == `pug bug mug`\n",
    "\n",
    "공백 기준 pre-tokenize > `pug, bug, mug`\n",
    "\n",
    "위 어휘 사전을 만들면서 나온 병합 우선순위 정보 참고하여 분리\n",
    "\n",
    "병합 우선순위\n",
    "\n",
    "1. u g -> ug\n",
    "2. u n -> un\n",
    "3. h ug -> hug\n",
    "\n",
    "pug 는 p, u, g 로 나눌 수 있음,\n",
    "\n",
    "병합 가능한 u, g 조합으로 인해 p, ug 로 변환, 이 후 병합 가능한 내용 없으면 종료\n",
    "\n",
    "bug 도 같음\n",
    "\n",
    "mug 경우엔 없는 토큰 m 이 존재 하기 때문에 `<unk>` 처리\n",
    "\n",
    "p, ug, b, ug, `<unk>`, ug"
   ]
  },
  {
   "cell_type": "markdown",
   "metadata": {},
   "source": [
    "## Wordpiece\n",
    "\n",
    "BPE 와 유사하지만 \n",
    "\n",
    "병합된 내용이 나올 확률 분에 각각으로 나누어져 나올 확률로 계산하여 판단\n",
    "\n",
    "문자 단위로 진행하기 때문에 읽을 수 있는 문자 형태로 저장됨"
   ]
  },
  {
   "cell_type": "markdown",
   "metadata": {},
   "source": [
    "## Tokenizer coding\n",
    "\n",
    "네이버 영화 리뷰 데이터 활용\n",
    "\n",
    "### GPT (BPE) Tokenizer"
   ]
  },
  {
   "cell_type": "code",
   "execution_count": 16,
   "metadata": {},
   "outputs": [],
   "source": [
    "from Korpora import Korpora\n",
    "import os\n",
    "from tokenizers import ByteLevelBPETokenizer, BertWordPieceTokenizer\n",
    "from transformers import GPT2Tokenizer, BertTokenizer"
   ]
  },
  {
   "cell_type": "code",
   "execution_count": 2,
   "metadata": {},
   "outputs": [
    {
     "name": "stdout",
     "output_type": "stream",
     "text": [
      "\n",
      "    Korpora 는 다른 분들이 연구 목적으로 공유해주신 말뭉치들을\n",
      "    손쉽게 다운로드, 사용할 수 있는 기능만을 제공합니다.\n",
      "\n",
      "    말뭉치들을 공유해 주신 분들에게 감사드리며, 각 말뭉치 별 설명과 라이센스를 공유 드립니다.\n",
      "    해당 말뭉치에 대해 자세히 알고 싶으신 분은 아래의 description 을 참고,\n",
      "    해당 말뭉치를 연구/상용의 목적으로 이용하실 때에는 아래의 라이센스를 참고해 주시기 바랍니다.\n",
      "\n",
      "    # Description\n",
      "    Author : e9t@github\n",
      "    Repository : https://github.com/e9t/nsmc\n",
      "    References : www.lucypark.kr/docs/2015-pyconkr/#39\n",
      "\n",
      "    Naver sentiment movie corpus v1.0\n",
      "    This is a movie review dataset in the Korean language.\n",
      "    Reviews were scraped from Naver Movies.\n",
      "\n",
      "    The dataset construction is based on the method noted in\n",
      "    [Large movie review dataset][^1] from Maas et al., 2011.\n",
      "\n",
      "    [^1]: http://ai.stanford.edu/~amaas/data/sentiment/\n",
      "\n",
      "    # License\n",
      "    CC0 1.0 Universal (CC0 1.0) Public Domain Dedication\n",
      "    Details in https://creativecommons.org/publicdomain/zero/1.0/\n",
      "\n"
     ]
    },
    {
     "name": "stderr",
     "output_type": "stream",
     "text": [
      "[nsmc] download ratings_train.txt: 14.6MB [00:00, 18.8MB/s]                            \n",
      "[nsmc] download ratings_test.txt: 4.90MB [00:00, 16.7MB/s]                            \n"
     ]
    }
   ],
   "source": [
    "nsmc = Korpora.load('nsmc', force_download=True)"
   ]
  },
  {
   "cell_type": "code",
   "execution_count": 3,
   "metadata": {},
   "outputs": [
    {
     "data": {
      "text/plain": [
       "('아 더빙.. 진짜 짜증나네요 목소리', 0)"
      ]
     },
     "execution_count": 3,
     "metadata": {},
     "output_type": "execute_result"
    }
   ],
   "source": [
    "nsmc.train.get_all_texts()[0], nsmc.train.get_all_labels()[0]"
   ]
  },
  {
   "cell_type": "code",
   "execution_count": 4,
   "metadata": {},
   "outputs": [
    {
     "data": {
      "text/plain": [
       "'/tf/notebooks/NLP'"
      ]
     },
     "execution_count": 4,
     "metadata": {},
     "output_type": "execute_result"
    }
   ],
   "source": [
    "rootDir = !pwd\n",
    "rootDir[0]"
   ]
  },
  {
   "cell_type": "code",
   "execution_count": 5,
   "metadata": {},
   "outputs": [],
   "source": [
    "def saveData(path, lines):\n",
    "    with open(path, 'w', encoding='utf-8') as f:\n",
    "        for line in lines:\n",
    "            f.write(f'{line}\\n')"
   ]
  },
  {
   "cell_type": "code",
   "execution_count": 6,
   "metadata": {},
   "outputs": [],
   "source": [
    "saveData(f'{rootDir[0]}/train.txt', nsmc.train.get_all_texts())\n",
    "saveData(f'{rootDir[0]}/test.txt', nsmc.test.get_all_texts())"
   ]
  },
  {
   "cell_type": "code",
   "execution_count": 7,
   "metadata": {},
   "outputs": [],
   "source": [
    "os.makedirs(f'{rootDir[0]}/bpe-tokenized', exist_ok=True)"
   ]
  },
  {
   "cell_type": "code",
   "execution_count": 8,
   "metadata": {},
   "outputs": [
    {
     "data": {
      "text/plain": [
       "['/tf/notebooks/NLP/bpe-tokenized/vocab.json',\n",
       " '/tf/notebooks/NLP/bpe-tokenized/merges.txt']"
      ]
     },
     "execution_count": 8,
     "metadata": {},
     "output_type": "execute_result"
    }
   ],
   "source": [
    "byteBpe = ByteLevelBPETokenizer()\n",
    "byteBpe.train(\n",
    "    files=[f'{rootDir[0]}/train.txt', f'{rootDir[0]}/test.txt'],\n",
    "    vocab_size=10000,\n",
    "    special_tokens=[\"[PAD]\"]\n",
    ")\n",
    "byteBpe.save_model(f'{rootDir[0]}/bpe-tokenized')"
   ]
  },
  {
   "cell_type": "markdown",
   "metadata": {},
   "source": [
    "### BERT (wordpiece) Tokenizer"
   ]
  },
  {
   "cell_type": "code",
   "execution_count": 9,
   "metadata": {},
   "outputs": [],
   "source": [
    "os.makedirs(f'{rootDir[0]}/wordpiece-tokenized', exist_ok=True)"
   ]
  },
  {
   "cell_type": "code",
   "execution_count": 10,
   "metadata": {},
   "outputs": [
    {
     "data": {
      "text/plain": [
       "['/tf/notebooks/NLP/wordpiece-tokenized/vocab.txt']"
      ]
     },
     "execution_count": 10,
     "metadata": {},
     "output_type": "execute_result"
    }
   ],
   "source": [
    "wordpiece = BertWordPieceTokenizer(lowercase=False)\n",
    "wordpiece.train(\n",
    "    files=[f'{rootDir[0]}/train.txt', f'{rootDir[0]}/test.txt'],\n",
    "    vocab_size=10000\n",
    ")\n",
    "wordpiece.save_model(f'{rootDir[0]}/wordpiece-tokenized')"
   ]
  },
  {
   "cell_type": "markdown",
   "metadata": {},
   "source": [
    "## Test Sentences"
   ]
  },
  {
   "cell_type": "code",
   "execution_count": 13,
   "metadata": {},
   "outputs": [
    {
     "data": {
      "text/plain": [
       "['아 더빙.. 진짜 짜증나네요 목소리',\n",
       " '흠...포스터보고 초딩영화줄....오버연기조차 가볍지 않구나',\n",
       " '너무재밓었다그래서보는것을추천한다']"
      ]
     },
     "execution_count": 13,
     "metadata": {},
     "output_type": "execute_result"
    }
   ],
   "source": [
    "sentences = [\n",
    "    nsmc.train.get_all_texts()[0],\n",
    "    nsmc.train.get_all_texts()[1],\n",
    "    nsmc.train.get_all_texts()[2]\n",
    "]\n",
    "sentences"
   ]
  },
  {
   "cell_type": "markdown",
   "metadata": {},
   "source": [
    "### GPT (BPE) Input"
   ]
  },
  {
   "cell_type": "code",
   "execution_count": 11,
   "metadata": {},
   "outputs": [
    {
     "name": "stderr",
     "output_type": "stream",
     "text": [
      "file /tf/notebooks/NLP/bpe-tokenized/config.json not found\n"
     ]
    }
   ],
   "source": [
    "bpeTokenizer = GPT2Tokenizer.from_pretrained(f'{rootDir[0]}/bpe-tokenized')\n",
    "bpeTokenizer.pad_token = '[PAD]'"
   ]
  },
  {
   "cell_type": "code",
   "execution_count": 14,
   "metadata": {},
   "outputs": [
    {
     "data": {
      "text/plain": [
       "[['ìķĦ', 'ĠëįĶë¹Ļ', '..', 'Ġì§Ħì§ľ', 'Ġì§ľì¦ĿëĤĺ', 'ëĦ¤ìļĶ', 'Ġëª©ìĨĮë¦¬'],\n",
       " ['íĿł',\n",
       "  '...',\n",
       "  'íı¬ìĬ¤íĦ°',\n",
       "  'ë³´ê³ł',\n",
       "  'Ġì´ĪëĶ©',\n",
       "  'ìĺģíĻĶ',\n",
       "  'ì¤Ħ',\n",
       "  '....',\n",
       "  'ìĺ¤ë²Ħ',\n",
       "  'ìĹ°ê¸°',\n",
       "  'ì¡°ì°¨',\n",
       "  'Ġê°Ģë³į',\n",
       "  'ì§Ģ',\n",
       "  'ĠìķĬ',\n",
       "  'êµ¬ëĤĺ'],\n",
       " ['ëĦĪë¬´',\n",
       "  'ìŀ¬ë',\n",
       "  '°',\n",
       "  'ĵ',\n",
       "  'ìĹĪëĭ¤',\n",
       "  'ê·¸ëŀĺìĦľ',\n",
       "  'ë³´ëĬĶ',\n",
       "  'ê²ĥìĿĦ',\n",
       "  'ì¶Ķì²ľ',\n",
       "  'íķľëĭ¤']]"
      ]
     },
     "execution_count": 14,
     "metadata": {},
     "output_type": "execute_result"
    }
   ],
   "source": [
    "bpeTokenizedSentences = [bpeTokenizer.tokenize(sentence) for sentence in sentences]\n",
    "bpeTokenizedSentences"
   ]
  },
  {
   "cell_type": "code",
   "execution_count": 15,
   "metadata": {},
   "outputs": [
    {
     "data": {
      "text/plain": [
       "{'input_ids': [[334, 2338, 263, 581, 4055, 464, 3808, 0, 0, 0, 0, 0], [3693, 336, 2876, 758, 2883, 356, 806, 422, 9875, 875, 2960, 7292], [694, 477, 109, 242, 643, 3965, 1067, 2285, 2716, 969, 0, 0]], 'attention_mask': [[1, 1, 1, 1, 1, 1, 1, 0, 0, 0, 0, 0], [1, 1, 1, 1, 1, 1, 1, 1, 1, 1, 1, 1], [1, 1, 1, 1, 1, 1, 1, 1, 1, 1, 0, 0]]}"
      ]
     },
     "execution_count": 15,
     "metadata": {},
     "output_type": "execute_result"
    }
   ],
   "source": [
    "batchInput = bpeTokenizer(\n",
    "    sentences,\n",
    "    padding=\"max_length\",\n",
    "    max_length=12,\n",
    "    truncation=True\n",
    ")\n",
    "batchInput"
   ]
  },
  {
   "cell_type": "markdown",
   "metadata": {},
   "source": [
    "input_ids : 각 분리된 토크의 인덱스 번호, 어휘 집합 vocab.json 에서 확인 가능 (인덱싱 작업)\n",
    "\n",
    "문자 최대 길이인 12 보다 작으면 padding 값으로 0이 채워짐\n",
    "\n",
    "크면 잘리는 옵션인 truncation 적용\n",
    "\n",
    "attention_mask: 일반 토큰, 패딩 토큰 위치 정보"
   ]
  },
  {
   "cell_type": "markdown",
   "metadata": {},
   "source": [
    "### BERT (wordpiece) Input"
   ]
  },
  {
   "cell_type": "code",
   "execution_count": 17,
   "metadata": {},
   "outputs": [
    {
     "name": "stderr",
     "output_type": "stream",
     "text": [
      "file /tf/notebooks/NLP/wordpiece-tokenized/config.json not found\n"
     ]
    }
   ],
   "source": [
    "bertTokenizer = BertTokenizer.from_pretrained(\n",
    "    f'{rootDir[0]}/wordpiece-tokenized',\n",
    "    do_lower_case=False\n",
    ")"
   ]
  },
  {
   "cell_type": "code",
   "execution_count": 18,
   "metadata": {},
   "outputs": [
    {
     "data": {
      "text/plain": [
       "[['아', '더빙', '.', '.', '진짜', '짜증나', '##네요', '목소리'],\n",
       " ['흠',\n",
       "  '.',\n",
       "  '.',\n",
       "  '.',\n",
       "  '포스터',\n",
       "  '##보고',\n",
       "  '초딩',\n",
       "  '##영화',\n",
       "  '##줄',\n",
       "  '.',\n",
       "  '.',\n",
       "  '.',\n",
       "  '.',\n",
       "  '오버',\n",
       "  '##연기',\n",
       "  '##조차',\n",
       "  '가볍',\n",
       "  '##지',\n",
       "  '않',\n",
       "  '##구나'],\n",
       " ['[UNK]']]"
      ]
     },
     "execution_count": 18,
     "metadata": {},
     "output_type": "execute_result"
    }
   ],
   "source": [
    "bertTokenizedSentences = [bertTokenizer.tokenize(sentence) for sentence in sentences]\n",
    "bertTokenizedSentences"
   ]
  },
  {
   "cell_type": "code",
   "execution_count": 19,
   "metadata": {},
   "outputs": [
    {
     "data": {
      "text/plain": [
       "{'input_ids': [[2, 620, 2631, 16, 16, 1993, 3678, 1990, 3323, 3, 0, 0], [2, 997, 16, 16, 16, 2609, 2045, 2796, 1981, 1025, 16, 3], [2, 1, 3, 0, 0, 0, 0, 0, 0, 0, 0, 0]], 'token_type_ids': [[0, 0, 0, 0, 0, 0, 0, 0, 0, 0, 0, 0], [0, 0, 0, 0, 0, 0, 0, 0, 0, 0, 0, 0], [0, 0, 0, 0, 0, 0, 0, 0, 0, 0, 0, 0]], 'attention_mask': [[1, 1, 1, 1, 1, 1, 1, 1, 1, 1, 0, 0], [1, 1, 1, 1, 1, 1, 1, 1, 1, 1, 1, 1], [1, 1, 1, 0, 0, 0, 0, 0, 0, 0, 0, 0]]}"
      ]
     },
     "execution_count": 19,
     "metadata": {},
     "output_type": "execute_result"
    }
   ],
   "source": [
    "batchInput = bertTokenizer(\n",
    "    sentences,\n",
    "    padding=\"max_length\",\n",
    "    max_length=12,\n",
    "    truncation=True\n",
    ")\n",
    "batchInput"
   ]
  }
 ],
 "metadata": {
  "kernelspec": {
   "display_name": "Python 3",
   "language": "python",
   "name": "python3"
  },
  "language_info": {
   "codemirror_mode": {
    "name": "ipython",
    "version": 3
   },
   "file_extension": ".py",
   "mimetype": "text/x-python",
   "name": "python",
   "nbconvert_exporter": "python",
   "pygments_lexer": "ipython3",
   "version": "3.6.9"
  }
 },
 "nbformat": 4,
 "nbformat_minor": 4
}
