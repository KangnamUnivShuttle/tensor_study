{
 "cells": [
  {
   "cell_type": "markdown",
   "metadata": {},
   "source": [
    "## 자연어 추론\n",
    "\n",
    "문장 쌍 분류로 2가지 문장이 주어지면 \n",
    "\n",
    "해당 문장 사이의 관계가 어떤 범주인지 분류\n",
    "\n",
    "ex) \n",
    "\n",
    "- 나 공원에 갔어 + 지금 침대 위야 > 거짓\n",
    "- 나 일하고 있어 + 나는 개발자야 > 중립\n",
    "- 나 공원에 갔어 + 공원에서 친구를 만났어 > 참"
   ]
  },
  {
   "cell_type": "code",
   "execution_count": 10,
   "metadata": {},
   "outputs": [],
   "source": [
    "import torch\n",
    "from pytorch_lightning import Trainer, LightningModule\n",
    "from pytorch_lightning.callbacks import ModelCheckpoint\n",
    "from transformers import PreTrainedModel, BertTokenizer, BertConfig, BertForSequenceClassification, set_seed\n",
    "from transformers.optimization import AdamW\n",
    "from Korpora import Korpora\n",
    "import os, csv, re\n",
    "from dataclasses import dataclass\n",
    "from typing import List, Optional\n",
    "from torch.utils.data import DataLoader, RandomSampler, SequentialSampler\n",
    "from torch.optim.lr_scheduler import ExponentialLR\n",
    "import logging"
   ]
  },
  {
   "cell_type": "code",
   "execution_count": 4,
   "metadata": {},
   "outputs": [
    {
     "data": {
      "text/plain": [
       "'/tf/notebooks/NLP'"
      ]
     },
     "execution_count": 4,
     "metadata": {},
     "output_type": "execute_result"
    }
   ],
   "source": [
    "current_dir = !pwd\n",
    "current_dir = current_dir[0]\n",
    "current_dir"
   ]
  },
  {
   "cell_type": "code",
   "execution_count": 7,
   "metadata": {},
   "outputs": [
    {
     "data": {
      "text/plain": [
       "7"
      ]
     },
     "execution_count": 7,
     "metadata": {},
     "output_type": "execute_result"
    }
   ],
   "source": [
    "@dataclass\n",
    "class Args:\n",
    "    pretrained_model_name = 'beomi/kcbert-base'\n",
    "    downstream_task_name = 'pair-classification'\n",
    "    downstream_corpus_name = 'klue-nli'\n",
    "    downstream_model_dir = f'{current_dir}/checkpoint-paircls'\n",
    "    batch_size = 32\n",
    "    learning_rate = 5e-5\n",
    "    max_seq_length = 64\n",
    "    epochs = 5\n",
    "    seed = 7\n",
    "args = Args()\n",
    "args.seed"
   ]
  },
  {
   "cell_type": "code",
   "execution_count": 9,
   "metadata": {},
   "outputs": [],
   "source": [
    "set_seed(args.seed)"
   ]
  },
  {
   "cell_type": "code",
   "execution_count": 11,
   "metadata": {},
   "outputs": [],
   "source": [
    "logger = logging.getLogger('nli')\n",
    "logger.setLevel(logging.INFO)\n",
    "logger.info(\"Training/evaluation parameters %s\", args)"
   ]
  },
  {
   "cell_type": "code",
   "execution_count": 13,
   "metadata": {},
   "outputs": [],
   "source": [
    "download_info = {\n",
    "        \"train\": {\n",
    "            \"googledrive_file_id\": \"18LhrHaPEW0VITMPfnwKXJ6bNuklBdi4U\",\n",
    "            \"fname\": \"klue_nli_train.json\",\n",
    "        },\n",
    "        \"val\": {\n",
    "            \"googledrive_file_id\": \"1UKIDAFOFuDSah7A66FZXSA8XUWUHhBAd\",\n",
    "            \"fname\": \"klue_nli_dev.json\",\n",
    "        }\n",
    "    }"
   ]
  },
  {
   "cell_type": "code",
   "execution_count": null,
   "metadata": {},
   "outputs": [],
   "source": []
  }
 ],
 "metadata": {
  "kernelspec": {
   "display_name": "Python 3",
   "language": "python",
   "name": "python3"
  },
  "language_info": {
   "codemirror_mode": {
    "name": "ipython",
    "version": 3
   },
   "file_extension": ".py",
   "mimetype": "text/x-python",
   "name": "python",
   "nbconvert_exporter": "python",
   "pygments_lexer": "ipython3",
   "version": "3.6.9"
  }
 },
 "nbformat": 4,
 "nbformat_minor": 4
}
