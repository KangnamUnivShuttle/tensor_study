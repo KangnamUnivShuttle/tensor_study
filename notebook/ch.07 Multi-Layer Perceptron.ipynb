{
 "cells": [
  {
   "cell_type": "markdown",
   "metadata": {},
   "source": [
    "XOR 문제를 해결해 보자\n",
    "\n",
    "기본적으로 시그모이드 함수 특징인 조건에 따라 true / false 로 나오는 형태를 여러개로 묶어 노드로 만들고 \n",
    "\n",
    "같은 레벨의 노드들이 모여 은닉층이 만들어짐\n",
    "\n",
    "그 은닉층의 결과를 토데로 시그모이드로 연산을 더 해 최종 결과가 나옴\n",
    "\n",
    "alpha * x + beta -> weight * x + Biasing\n",
    "\n",
    "```\n",
    "X1 ---->  N1\n",
    "    w11\n",
    "X1 ---->  N2\n",
    "    w12\n",
    "X2 ---->  N1\n",
    "    w21\n",
    "X2 ---->  N2\n",
    "    w22\n",
    "\n",
    "---<W(1)>-<B(1)>\n",
    "\n",
    "N1 ---->  Y\n",
    "    w31\n",
    "N2 ---->  Y\n",
    "    w32\n",
    "    \n",
    "---<W(2)>-<B(2)>\n",
    "```\n",
    "\n",
    "### Node Layer 1\n",
    "```\n",
    "n1 = σ ( w11 * x1 + w21 * x2 + b)\n",
    "n2 = σ ( w12 * x1 + w22 * x2 + b)\n",
    "```\n",
    "\n",
    "### Out\n",
    "```\n",
    "y<out> = σ ( n1 * w31 * n2 * w32 + b)\n",
    "```\n",
    "\n",
    "### Input example\n",
    "\n",
    "```\n",
    "W(1) = [[-2 2], [-2 2]]\n",
    "W(2) = [[1], [1]]\n",
    "B(1) = [[3], [-1]]\n",
    "B(2) = [-1]\n",
    "```\n",
    "\n",
    "### How to solve XOR\n",
    "\n",
    "|x1|x2|n1|n2|y|expect|\n",
    "|:-------------:|:-------------:|:-------------:|:-------------:|:-------------:|:-------------:|\n",
    "|0|0|σ (-2 * 0 + -2 * 0 + 3) ~ 1|σ (2 * 0 + 2 * 0 + -1) ~ 0|σ (1 * 1 + 0 * 1 + -1) ~ 0|0|\n",
    "|0|1|σ (-2 * 0 + -2 * 1 + 3) ~ 1|σ (2 * 0 + 2 * 1 + -1) ~ 1|σ (1 * 1 + 1 * 1 + -1) ~ 1|1|\n",
    "|1|0|σ (-2 * 1 + -2 * 0 + 3) ~ 1|σ (2 * 1 + 2 * 0 + -1) ~ 1|σ (1 * 1 + 1 * 1 + -1) ~ 1|1|\n",
    "|1|1|σ (-2 * 1 + -2 * 1 + 3) ~ 0|σ (2 * 1 + 2 * 1 + -1) ~ 1|σ (0 * 1 + 1 * 1 + -1) ~ 0|0|\n",
    "\n",
    "n1 == NAND\n",
    "\n",
    "n2 == OR\n",
    "\n",
    "n1 + n2 == NAND-> AND <-OR => XOR"
   ]
  },
  {
   "cell_type": "code",
   "execution_count": 1,
   "metadata": {},
   "outputs": [],
   "source": [
    "import numpy as np\n",
    "import pandas as pd\n",
    "import matplotlib.pyplot as plt\n",
    "\n",
    "%matplotlib inline"
   ]
  },
  {
   "cell_type": "code",
   "execution_count": 2,
   "metadata": {},
   "outputs": [],
   "source": [
    "w11 = np.array([-2, -2])\n",
    "w12 = np.array([2, 2])\n",
    "w2 = np.array([1, 1])\n",
    "b1 = 3\n",
    "b2 = -1\n",
    "b3 = -1"
   ]
  },
  {
   "cell_type": "code",
   "execution_count": 35,
   "metadata": {},
   "outputs": [],
   "source": [
    "def MLP (x, weight, biasing):\n",
    "    y = np.sum (weight * x) + biasing # Weighted sum\n",
    "#     print(x, weight, biasing, y)\n",
    "    if y <= 0: #sigmoid 0 or 1 conditional\n",
    "        return 0\n",
    "    return 1"
   ]
  },
  {
   "cell_type": "code",
   "execution_count": 30,
   "metadata": {},
   "outputs": [],
   "source": [
    "#n1\n",
    "def NAND (x1, x2):\n",
    "    return MLP(np.array([x1, x2]), w11, b1) #w11 == W(1)11, W(1)21"
   ]
  },
  {
   "cell_type": "code",
   "execution_count": 31,
   "metadata": {},
   "outputs": [],
   "source": [
    "#n2\n",
    "def OR (x1, x2):\n",
    "    return MLP(np.array([x1, x2]), w12, b2) #w12 == W(1)12, W(1)22"
   ]
  },
  {
   "cell_type": "code",
   "execution_count": 32,
   "metadata": {},
   "outputs": [],
   "source": [
    "#n1 + n2\n",
    "def AND (x1, x2):\n",
    "    return MLP (np.array([x1, x2]), w2, b3) #w2 == W(2)"
   ]
  },
  {
   "cell_type": "code",
   "execution_count": 33,
   "metadata": {},
   "outputs": [],
   "source": [
    "def XOR (x1, x2):\n",
    "    return AND(NAND(x1, x2), OR(x1, x2))"
   ]
  },
  {
   "cell_type": "code",
   "execution_count": 36,
   "metadata": {},
   "outputs": [
    {
     "name": "stdout",
     "output_type": "stream",
     "text": [
      "x1: 0, x2: 0, y: 0\n",
      "x1: 0, x2: 1, y: 1\n",
      "x1: 1, x2: 0, y: 1\n",
      "x1: 1, x2: 1, y: 0\n"
     ]
    }
   ],
   "source": [
    "for x in [(0, 0), (0, 1), (1, 0), (1, 1)]:\n",
    "    y = XOR(x[0], x[1])\n",
    "    print(\"x1: %d, x2: %d, y: %d\" % (x[0], x[1], y))"
   ]
  }
 ],
 "metadata": {
  "kernelspec": {
   "display_name": "Python 3",
   "language": "python",
   "name": "python3"
  },
  "language_info": {
   "codemirror_mode": {
    "name": "ipython",
    "version": 3
   },
   "file_extension": ".py",
   "mimetype": "text/x-python",
   "name": "python",
   "nbconvert_exporter": "python",
   "pygments_lexer": "ipython3",
   "version": "3.6.9"
  }
 },
 "nbformat": 4,
 "nbformat_minor": 4
}
