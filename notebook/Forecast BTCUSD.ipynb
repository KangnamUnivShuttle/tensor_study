{
 "cells": [
  {
   "cell_type": "code",
   "execution_count": 1,
   "metadata": {},
   "outputs": [],
   "source": [
    "#https://raw.githubusercontent.com/notadamking/RLTrader/master/data/input/coinbase-1h-btc-usd.csv"
   ]
  },
  {
   "cell_type": "code",
   "execution_count": 2,
   "metadata": {},
   "outputs": [],
   "source": [
    "import os\n",
    "import datetime\n",
    "\n",
    "import IPython\n",
    "import IPython.display\n",
    "import matplotlib as mpl\n",
    "import matplotlib.pyplot as plt\n",
    "import numpy as np\n",
    "import pandas as pd\n",
    "import seaborn as sns\n",
    "import tensorflow as tf\n",
    "import opendatasets as od\n",
    "\n",
    "%matplotlib inline"
   ]
  },
  {
   "cell_type": "code",
   "execution_count": 7,
   "metadata": {},
   "outputs": [
    {
     "data": {
      "text/html": [
       "<div>\n",
       "<style scoped>\n",
       "    .dataframe tbody tr th:only-of-type {\n",
       "        vertical-align: middle;\n",
       "    }\n",
       "\n",
       "    .dataframe tbody tr th {\n",
       "        vertical-align: top;\n",
       "    }\n",
       "\n",
       "    .dataframe thead th {\n",
       "        text-align: right;\n",
       "    }\n",
       "</style>\n",
       "<table border=\"1\" class=\"dataframe\">\n",
       "  <thead>\n",
       "    <tr style=\"text-align: right;\">\n",
       "      <th></th>\n",
       "      <th>Date</th>\n",
       "      <th>Open</th>\n",
       "      <th>High</th>\n",
       "      <th>Low</th>\n",
       "      <th>Close</th>\n",
       "      <th>Adj Close</th>\n",
       "      <th>Volume</th>\n",
       "    </tr>\n",
       "  </thead>\n",
       "  <tbody>\n",
       "    <tr>\n",
       "      <th>0</th>\n",
       "      <td>2010-07-16</td>\n",
       "      <td>0.04951</td>\n",
       "      <td>0.04951</td>\n",
       "      <td>0.04951</td>\n",
       "      <td>0.04951</td>\n",
       "      <td>0.04951</td>\n",
       "      <td>0</td>\n",
       "    </tr>\n",
       "    <tr>\n",
       "      <th>1</th>\n",
       "      <td>2010-07-17</td>\n",
       "      <td>0.04951</td>\n",
       "      <td>0.08585</td>\n",
       "      <td>0.05941</td>\n",
       "      <td>0.08584</td>\n",
       "      <td>0.08584</td>\n",
       "      <td>5</td>\n",
       "    </tr>\n",
       "    <tr>\n",
       "      <th>2</th>\n",
       "      <td>2010-07-18</td>\n",
       "      <td>0.08584</td>\n",
       "      <td>0.09307</td>\n",
       "      <td>0.07723</td>\n",
       "      <td>0.08080</td>\n",
       "      <td>0.08080</td>\n",
       "      <td>49</td>\n",
       "    </tr>\n",
       "    <tr>\n",
       "      <th>3</th>\n",
       "      <td>2010-07-19</td>\n",
       "      <td>0.08080</td>\n",
       "      <td>0.08181</td>\n",
       "      <td>0.07426</td>\n",
       "      <td>0.07474</td>\n",
       "      <td>0.07474</td>\n",
       "      <td>20</td>\n",
       "    </tr>\n",
       "    <tr>\n",
       "      <th>4</th>\n",
       "      <td>2010-07-20</td>\n",
       "      <td>0.07474</td>\n",
       "      <td>0.07921</td>\n",
       "      <td>0.06634</td>\n",
       "      <td>0.07921</td>\n",
       "      <td>0.07921</td>\n",
       "      <td>42</td>\n",
       "    </tr>\n",
       "  </tbody>\n",
       "</table>\n",
       "</div>"
      ],
      "text/plain": [
       "         Date     Open     High      Low    Close  Adj Close  Volume\n",
       "0  2010-07-16  0.04951  0.04951  0.04951  0.04951    0.04951       0\n",
       "1  2010-07-17  0.04951  0.08585  0.05941  0.08584    0.08584       5\n",
       "2  2010-07-18  0.08584  0.09307  0.07723  0.08080    0.08080      49\n",
       "3  2010-07-19  0.08080  0.08181  0.07426  0.07474    0.07474      20\n",
       "4  2010-07-20  0.07474  0.07921  0.06634  0.07921    0.07921      42"
      ]
     },
     "execution_count": 7,
     "metadata": {},
     "output_type": "execute_result"
    }
   ],
   "source": [
    "#https://raw.githubusercontent.com/notadamking/RLTrader/master/data/input/coinbase-1h-btc-usd.csv\n",
    "df = pd.read_csv(\"https://raw.githubusercontent.com/curiousily/Deep-Learning-For-Hackers/master/data/3.stock-prediction/BTC-USD.csv\")\n",
    "df.head()"
   ]
  },
  {
   "cell_type": "code",
   "execution_count": 8,
   "metadata": {},
   "outputs": [
    {
     "data": {
      "text/html": [
       "<div>\n",
       "<style scoped>\n",
       "    .dataframe tbody tr th:only-of-type {\n",
       "        vertical-align: middle;\n",
       "    }\n",
       "\n",
       "    .dataframe tbody tr th {\n",
       "        vertical-align: top;\n",
       "    }\n",
       "\n",
       "    .dataframe thead th {\n",
       "        text-align: right;\n",
       "    }\n",
       "</style>\n",
       "<table border=\"1\" class=\"dataframe\">\n",
       "  <thead>\n",
       "    <tr style=\"text-align: right;\">\n",
       "      <th></th>\n",
       "      <th>count</th>\n",
       "      <th>mean</th>\n",
       "      <th>std</th>\n",
       "      <th>min</th>\n",
       "      <th>25%</th>\n",
       "      <th>50%</th>\n",
       "      <th>75%</th>\n",
       "      <th>max</th>\n",
       "    </tr>\n",
       "  </thead>\n",
       "  <tbody>\n",
       "    <tr>\n",
       "      <th>Open</th>\n",
       "      <td>3201.0</td>\n",
       "      <td>1.632572e+03</td>\n",
       "      <td>2.962080e+03</td>\n",
       "      <td>0.04951</td>\n",
       "      <td>12.50</td>\n",
       "      <td>3.616700e+02</td>\n",
       "      <td>1.033300e+03</td>\n",
       "      <td>1.934660e+04</td>\n",
       "    </tr>\n",
       "    <tr>\n",
       "      <th>High</th>\n",
       "      <td>3201.0</td>\n",
       "      <td>1.685521e+03</td>\n",
       "      <td>3.072654e+03</td>\n",
       "      <td>0.04951</td>\n",
       "      <td>12.69</td>\n",
       "      <td>3.746700e+02</td>\n",
       "      <td>1.062790e+03</td>\n",
       "      <td>1.987062e+04</td>\n",
       "    </tr>\n",
       "    <tr>\n",
       "      <th>Low</th>\n",
       "      <td>3201.0</td>\n",
       "      <td>1.572301e+03</td>\n",
       "      <td>2.824316e+03</td>\n",
       "      <td>0.01000</td>\n",
       "      <td>12.25</td>\n",
       "      <td>3.504900e+02</td>\n",
       "      <td>9.924500e+02</td>\n",
       "      <td>1.875091e+04</td>\n",
       "    </tr>\n",
       "    <tr>\n",
       "      <th>Close</th>\n",
       "      <td>3201.0</td>\n",
       "      <td>1.634224e+03</td>\n",
       "      <td>2.962630e+03</td>\n",
       "      <td>0.04951</td>\n",
       "      <td>12.51</td>\n",
       "      <td>3.617100e+02</td>\n",
       "      <td>1.033720e+03</td>\n",
       "      <td>1.934549e+04</td>\n",
       "    </tr>\n",
       "    <tr>\n",
       "      <th>Adj Close</th>\n",
       "      <td>3201.0</td>\n",
       "      <td>1.634224e+03</td>\n",
       "      <td>2.962630e+03</td>\n",
       "      <td>0.04951</td>\n",
       "      <td>12.51</td>\n",
       "      <td>3.617100e+02</td>\n",
       "      <td>1.033720e+03</td>\n",
       "      <td>1.934549e+04</td>\n",
       "    </tr>\n",
       "    <tr>\n",
       "      <th>Volume</th>\n",
       "      <td>3201.0</td>\n",
       "      <td>1.524097e+08</td>\n",
       "      <td>4.070572e+08</td>\n",
       "      <td>0.00000</td>\n",
       "      <td>536267.00</td>\n",
       "      <td>1.012788e+07</td>\n",
       "      <td>6.814613e+07</td>\n",
       "      <td>6.245732e+09</td>\n",
       "    </tr>\n",
       "  </tbody>\n",
       "</table>\n",
       "</div>"
      ],
      "text/plain": [
       "            count          mean           std      min        25%  \\\n",
       "Open       3201.0  1.632572e+03  2.962080e+03  0.04951      12.50   \n",
       "High       3201.0  1.685521e+03  3.072654e+03  0.04951      12.69   \n",
       "Low        3201.0  1.572301e+03  2.824316e+03  0.01000      12.25   \n",
       "Close      3201.0  1.634224e+03  2.962630e+03  0.04951      12.51   \n",
       "Adj Close  3201.0  1.634224e+03  2.962630e+03  0.04951      12.51   \n",
       "Volume     3201.0  1.524097e+08  4.070572e+08  0.00000  536267.00   \n",
       "\n",
       "                    50%           75%           max  \n",
       "Open       3.616700e+02  1.033300e+03  1.934660e+04  \n",
       "High       3.746700e+02  1.062790e+03  1.987062e+04  \n",
       "Low        3.504900e+02  9.924500e+02  1.875091e+04  \n",
       "Close      3.617100e+02  1.033720e+03  1.934549e+04  \n",
       "Adj Close  3.617100e+02  1.033720e+03  1.934549e+04  \n",
       "Volume     1.012788e+07  6.814613e+07  6.245732e+09  "
      ]
     },
     "execution_count": 8,
     "metadata": {},
     "output_type": "execute_result"
    }
   ],
   "source": [
    "df.describe().transpose()"
   ]
  },
  {
   "cell_type": "code",
   "execution_count": 9,
   "metadata": {},
   "outputs": [
    {
     "data": {
      "text/plain": [
       "0      2010-07-16\n",
       "1      2010-07-17\n",
       "2      2010-07-18\n",
       "3      2010-07-19\n",
       "4      2010-07-20\n",
       "          ...    \n",
       "3196   2019-04-16\n",
       "3197   2019-04-17\n",
       "3198   2019-04-18\n",
       "3199   2019-04-19\n",
       "3200   2019-04-20\n",
       "Name: Date, Length: 3201, dtype: datetime64[ns]"
      ]
     },
     "execution_count": 9,
     "metadata": {},
     "output_type": "execute_result"
    }
   ],
   "source": [
    "date_time = pd.to_datetime(df.pop('Date'))\n",
    "date_time"
   ]
  },
  {
   "cell_type": "code",
   "execution_count": 10,
   "metadata": {},
   "outputs": [
    {
     "data": {
      "image/png": "[encoded data removed]",
      "text/plain": [
       "<Figure size 432x288 with 4 Axes>"
      ]
     },
     "metadata": {
      "needs_background": "light"
     },
     "output_type": "display_data"
    }
   ],
   "source": [
    "plot_cols = ['Open', 'High', 'Low', 'Close']\n",
    "plot_features = df[plot_cols]\n",
    "plot_features.index = date_time\n",
    "_ = plot_features.plot(subplots=True)"
   ]
  },
  {
   "cell_type": "code",
   "execution_count": 17,
   "metadata": {},
   "outputs": [
    {
     "data": {
      "image/png": "[encoded data removed]",
      "text/plain": [
       "<Figure size 432x288 with 4 Axes>"
      ]
     },
     "metadata": {
      "needs_background": "light"
     },
     "output_type": "display_data"
    }
   ],
   "source": [
    "plot_features = df[plot_cols][2401:3201]\n",
    "plot_features.index = date_time[2401:3201]\n",
    "_ = plot_features.plot(subplots=True)"
   ]
  },
  {
   "cell_type": "code",
   "execution_count": 13,
   "metadata": {},
   "outputs": [
    {
     "name": "stdout",
     "output_type": "stream",
     "text": [
      "<class 'pandas.core.frame.DataFrame'>\n",
      "RangeIndex: 3201 entries, 0 to 3200\n",
      "Data columns (total 6 columns):\n",
      " #   Column     Non-Null Count  Dtype  \n",
      "---  ------     --------------  -----  \n",
      " 0   Open       3201 non-null   float64\n",
      " 1   High       3201 non-null   float64\n",
      " 2   Low        3201 non-null   float64\n",
      " 3   Close      3201 non-null   float64\n",
      " 4   Adj Close  3201 non-null   float64\n",
      " 5   Volume     3201 non-null   int64  \n",
      "dtypes: float64(5), int64(1)\n",
      "memory usage: 150.2 KB\n"
     ]
    }
   ],
   "source": [
    "df.info()"
   ]
  },
  {
   "cell_type": "code",
   "execution_count": 39,
   "metadata": {},
   "outputs": [
    {
     "data": {
      "text/plain": [
       "(1279238400.0, 1279324800.0, 86400.0, 86400)"
      ]
     },
     "execution_count": 39,
     "metadata": {},
     "output_type": "execute_result"
    }
   ],
   "source": [
    "timestamp_s = date_time.map(datetime.datetime.timestamp)\n",
    "timestamp_s[0], timestamp_s[1], (timestamp_s[1] - timestamp_s[0]), 24*60*60"
   ]
  },
  {
   "cell_type": "code",
   "execution_count": 63,
   "metadata": {},
   "outputs": [
    {
     "data": {
      "text/plain": [
       "(0               0.0\n",
       " 1           86400.0\n",
       " 2          172800.0\n",
       " 3          259200.0\n",
       " 4          345600.0\n",
       "            ...     \n",
       " 3196    276134400.0\n",
       " 3197    276220800.0\n",
       " 3198    276307200.0\n",
       " 3199    276393600.0\n",
       " 3200    276480000.0\n",
       " Name: Date, Length: 3201, dtype: float64,\n",
       " 0          0.0\n",
       " 1          1.0\n",
       " 2          2.0\n",
       " 3          3.0\n",
       " 4          4.0\n",
       "          ...  \n",
       " 3196    3196.0\n",
       " 3197    3197.0\n",
       " 3198    3198.0\n",
       " 3199    3199.0\n",
       " 3200    3200.0\n",
       " Name: Date, Length: 3201, dtype: float64,\n",
       " 0           0.000000\n",
       " 1           3.141593\n",
       " 2           6.283185\n",
       " 3           9.424778\n",
       " 4          12.566371\n",
       "             ...     \n",
       " 3196    10040.530121\n",
       " 3197    10043.671714\n",
       " 3198    10046.813306\n",
       " 3199    10049.954899\n",
       " 3200    10053.096491\n",
       " Name: Date, Length: 3201, dtype: float64,\n",
       " 0       0.000000e+00\n",
       " 1       1.224647e-16\n",
       " 2      -2.449294e-16\n",
       " 3       3.673940e-16\n",
       " 4      -4.898587e-16\n",
       "             ...     \n",
       " 3196   -1.258259e-12\n",
       " 3197    9.279793e-13\n",
       " 3198   -5.976994e-13\n",
       " 3199    2.674195e-13\n",
       " 3200    6.286038e-14\n",
       " Name: Date, Length: 3201, dtype: float64)"
      ]
     },
     "execution_count": 63,
     "metadata": {},
     "output_type": "execute_result"
    }
   ],
   "source": [
    "(timestamp_s - timestamp_s[0]), (timestamp_s - timestamp_s[0]) / (24*60*60)\\\n",
    ", ((timestamp_s - timestamp_s[0]) / (24*60*60)) * np.pi, np.sin(((timestamp_s - timestamp_s[0]) / (24*60*60)) * np.pi)"
   ]
  },
  {
   "cell_type": "code",
   "execution_count": 71,
   "metadata": {},
   "outputs": [
    {
     "data": {
      "text/plain": [
       "3.141592653589793"
      ]
     },
     "execution_count": 71,
     "metadata": {},
     "output_type": "execute_result"
    }
   ],
   "source": [
    "np.pi"
   ]
  },
  {
   "cell_type": "code",
   "execution_count": 93,
   "metadata": {},
   "outputs": [
    {
     "data": {
      "text/plain": [
       "(0          0.0\n",
       " 1          1.0\n",
       " 2          2.0\n",
       " 3          3.0\n",
       " 4          4.0\n",
       "          ...  \n",
       " 3196    3196.0\n",
       " 3197    3197.0\n",
       " 3198    3198.0\n",
       " 3199    3199.0\n",
       " 3200    3200.0\n",
       " Name: Date, Length: 3201, dtype: float64,\n",
       " 0.0,\n",
       " 3.141592653589793)"
      ]
     },
     "execution_count": 93,
     "metadata": {},
     "output_type": "execute_result"
    }
   ],
   "source": [
    "timestamp_d = (timestamp_s - timestamp_s[0]) / (24 * 60 * 60)\n",
    "timestamp_d, timestamp_d[0], timestamp_d[7] / 7 * np.pi"
   ]
  },
  {
   "cell_type": "code",
   "execution_count": 97,
   "metadata": {},
   "outputs": [],
   "source": [
    "day = 24*60*60\n",
    "week = day * 7\n",
    "day_30 = day * 30\n",
    "year = (365.2425)*day\n",
    "\n",
    "df['Day week sin'] = np.sin(timestamp_d / 7 * np.pi)\n",
    "df['Day week cos'] = np.cos(timestamp_d / 7 * np.pi)\n",
    "df['Day 30 sin'] = np.sin(timestamp_d / 30 * np.pi)\n",
    "df['Day 30 cos'] = np.cos(timestamp_d / 30 * np.pi)\n",
    "df['Year sin'] = np.sin(timestamp_d / 365 * np.pi)\n",
    "df['Year cos'] = np.cos(timestamp_d / 365 * np.pi)"
   ]
  },
  {
   "cell_type": "code",
   "execution_count": 99,
   "metadata": {},
   "outputs": [
    {
     "data": {
      "text/plain": [
       "Text(0.5, 1.0, 'Time of day signal')"
      ]
     },
     "execution_count": 99,
     "metadata": {},
     "output_type": "execute_result"
    },
    {
     "data": {
      "image/png": "[encoded data removed]",
      "text/plain": [
       "<Figure size 432x288 with 1 Axes>"
      ]
     },
     "metadata": {
      "needs_background": "light"
     },
     "output_type": "display_data"
    }
   ],
   "source": [
    "plt.plot(np.array(df['Day week sin'])[:15])\n",
    "plt.plot(np.array(df['Day week cos'])[:15])\n",
    "plt.xlabel('Time [h]')\n",
    "plt.title('Time of day signal')"
   ]
  },
  {
   "cell_type": "code",
   "execution_count": 104,
   "metadata": {},
   "outputs": [
    {
     "data": {
      "image/png": "[encoded data removed]",
      "text/plain": [
       "<Figure size 432x288 with 1 Axes>"
      ]
     },
     "metadata": {
      "needs_background": "light"
     },
     "output_type": "display_data"
    }
   ],
   "source": [
    "fft = tf.signal.rfft(df['Open'])\n",
    "f_per_dataset = np.arange(0, len(fft))\n",
    "\n",
    "n_samples_d = len(df['Open'])\n",
    "days_per_year = 365\n",
    "years_per_dataset = n_samples_d/(days_per_year)\n",
    "\n",
    "f_per_year = f_per_dataset/years_per_dataset\n",
    "plt.step(f_per_year, np.abs(fft))\n",
    "plt.xscale('log')\n",
    "plt.ylim(0, 5000000)\n",
    "plt.xlim([0.1, max(plt.xlim())])\n",
    "plt.xticks([1, 365], labels=['1/Year', '1/day'])\n",
    "_ = plt.xlabel('Frequency (log scale)')"
   ]
  },
  {
   "cell_type": "code",
   "execution_count": 107,
   "metadata": {},
   "outputs": [
    {
     "data": {
      "text/plain": [
       "(array([   0,    1,    2, ..., 1598, 1599, 1600]), 8.76986301369863, 3201)"
      ]
     },
     "execution_count": 107,
     "metadata": {},
     "output_type": "execute_result"
    }
   ],
   "source": [
    "f_per_dataset, years_per_dataset, n_samples_d"
   ]
  },
  {
   "cell_type": "code",
   "execution_count": 113,
   "metadata": {},
   "outputs": [
    {
     "data": {
      "text/plain": [
       "[<matplotlib.lines.Line2D at 0x7f3286cbd710>]"
      ]
     },
     "execution_count": 113,
     "metadata": {},
     "output_type": "execute_result"
    },
    {
     "data": {
      "image/png": "[encoded data removed]",
      "text/plain": [
       "<Figure size 432x288 with 1 Axes>"
      ]
     },
     "metadata": {
      "needs_background": "light"
     },
     "output_type": "display_data"
    }
   ],
   "source": [
    "plt.step(f_per_year, np.abs(fft))"
   ]
  },
  {
   "cell_type": "code",
   "execution_count": 115,
   "metadata": {},
   "outputs": [
    {
     "data": {
      "text/plain": [
       "(1601,\n",
       " array([0.00000000e+00, 1.14026867e-01, 2.28053733e-01, ...,\n",
       "        1.82214933e+02, 1.82328960e+02, 1.82442987e+02]))"
      ]
     },
     "execution_count": 115,
     "metadata": {},
     "output_type": "execute_result"
    }
   ],
   "source": [
    "len(f_per_year), f_per_year"
   ]
  },
  {
   "cell_type": "markdown",
   "metadata": {},
   "source": [
    "https://towardsdatascience.com/cryptocurrency-price-prediction-using-lstms-tensorflow-for-hackers-part-iii-264fcdbccd3f"
   ]
  },
  {
   "cell_type": "code",
   "execution_count": 116,
   "metadata": {},
   "outputs": [],
   "source": [
    "csv_path = \"https://raw.githubusercontent.com/curiousily/Deep-Learning-For-Hackers/master/data/3.stock-prediction/BTC-USD.csv\"\n",
    "df = pd.read_csv(csv_path, parse_dates=['Date'])\n",
    "df = df.sort_values('Date')"
   ]
  },
  {
   "cell_type": "code",
   "execution_count": 117,
   "metadata": {},
   "outputs": [
    {
     "data": {
      "text/html": [
       "<div>\n",
       "<style scoped>\n",
       "    .dataframe tbody tr th:only-of-type {\n",
       "        vertical-align: middle;\n",
       "    }\n",
       "\n",
       "    .dataframe tbody tr th {\n",
       "        vertical-align: top;\n",
       "    }\n",
       "\n",
       "    .dataframe thead th {\n",
       "        text-align: right;\n",
       "    }\n",
       "</style>\n",
       "<table border=\"1\" class=\"dataframe\">\n",
       "  <thead>\n",
       "    <tr style=\"text-align: right;\">\n",
       "      <th></th>\n",
       "      <th>Date</th>\n",
       "      <th>Open</th>\n",
       "      <th>High</th>\n",
       "      <th>Low</th>\n",
       "      <th>Close</th>\n",
       "      <th>Adj Close</th>\n",
       "      <th>Volume</th>\n",
       "    </tr>\n",
       "  </thead>\n",
       "  <tbody>\n",
       "    <tr>\n",
       "      <th>0</th>\n",
       "      <td>2010-07-16</td>\n",
       "      <td>0.04951</td>\n",
       "      <td>0.04951</td>\n",
       "      <td>0.04951</td>\n",
       "      <td>0.04951</td>\n",
       "      <td>0.04951</td>\n",
       "      <td>0</td>\n",
       "    </tr>\n",
       "    <tr>\n",
       "      <th>1</th>\n",
       "      <td>2010-07-17</td>\n",
       "      <td>0.04951</td>\n",
       "      <td>0.08585</td>\n",
       "      <td>0.05941</td>\n",
       "      <td>0.08584</td>\n",
       "      <td>0.08584</td>\n",
       "      <td>5</td>\n",
       "    </tr>\n",
       "    <tr>\n",
       "      <th>2</th>\n",
       "      <td>2010-07-18</td>\n",
       "      <td>0.08584</td>\n",
       "      <td>0.09307</td>\n",
       "      <td>0.07723</td>\n",
       "      <td>0.08080</td>\n",
       "      <td>0.08080</td>\n",
       "      <td>49</td>\n",
       "    </tr>\n",
       "    <tr>\n",
       "      <th>3</th>\n",
       "      <td>2010-07-19</td>\n",
       "      <td>0.08080</td>\n",
       "      <td>0.08181</td>\n",
       "      <td>0.07426</td>\n",
       "      <td>0.07474</td>\n",
       "      <td>0.07474</td>\n",
       "      <td>20</td>\n",
       "    </tr>\n",
       "    <tr>\n",
       "      <th>4</th>\n",
       "      <td>2010-07-20</td>\n",
       "      <td>0.07474</td>\n",
       "      <td>0.07921</td>\n",
       "      <td>0.06634</td>\n",
       "      <td>0.07921</td>\n",
       "      <td>0.07921</td>\n",
       "      <td>42</td>\n",
       "    </tr>\n",
       "  </tbody>\n",
       "</table>\n",
       "</div>"
      ],
      "text/plain": [
       "        Date     Open     High      Low    Close  Adj Close  Volume\n",
       "0 2010-07-16  0.04951  0.04951  0.04951  0.04951    0.04951       0\n",
       "1 2010-07-17  0.04951  0.08585  0.05941  0.08584    0.08584       5\n",
       "2 2010-07-18  0.08584  0.09307  0.07723  0.08080    0.08080      49\n",
       "3 2010-07-19  0.08080  0.08181  0.07426  0.07474    0.07474      20\n",
       "4 2010-07-20  0.07474  0.07921  0.06634  0.07921    0.07921      42"
      ]
     },
     "execution_count": 117,
     "metadata": {},
     "output_type": "execute_result"
    }
   ],
   "source": [
    "df.head()"
   ]
  },
  {
   "cell_type": "code",
   "execution_count": 118,
   "metadata": {},
   "outputs": [
    {
     "name": "stdout",
     "output_type": "stream",
     "text": [
      "<class 'pandas.core.frame.DataFrame'>\n",
      "Int64Index: 3201 entries, 0 to 3200\n",
      "Data columns (total 7 columns):\n",
      " #   Column     Non-Null Count  Dtype         \n",
      "---  ------     --------------  -----         \n",
      " 0   Date       3201 non-null   datetime64[ns]\n",
      " 1   Open       3201 non-null   float64       \n",
      " 2   High       3201 non-null   float64       \n",
      " 3   Low        3201 non-null   float64       \n",
      " 4   Close      3201 non-null   float64       \n",
      " 5   Adj Close  3201 non-null   float64       \n",
      " 6   Volume     3201 non-null   int64         \n",
      "dtypes: datetime64[ns](1), float64(5), int64(1)\n",
      "memory usage: 200.1 KB\n"
     ]
    }
   ],
   "source": [
    "df.info()"
   ]
  },
  {
   "cell_type": "code",
   "execution_count": null,
   "metadata": {},
   "outputs": [],
   "source": []
  }
 ],
 "metadata": {
  "kernelspec": {
   "display_name": "Python 3",
   "language": "python",
   "name": "python3"
  },
  "language_info": {
   "codemirror_mode": {
    "name": "ipython",
    "version": 3
   },
   "file_extension": ".py",
   "mimetype": "text/x-python",
   "name": "python",
   "nbconvert_exporter": "python",
   "pygments_lexer": "ipython3",
   "version": "3.6.9"
  }
 },
 "nbformat": 4,
 "nbformat_minor": 4
}
