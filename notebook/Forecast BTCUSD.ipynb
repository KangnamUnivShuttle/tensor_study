{
 "cells": [
  {
   "cell_type": "code",
   "execution_count": 1,
   "metadata": {},
   "outputs": [],
   "source": [
    "#https://raw.githubusercontent.com/notadamking/RLTrader/master/data/input/coinbase-1h-btc-usd.csv"
   ]
  },
  {
   "cell_type": "code",
   "execution_count": 2,
   "metadata": {},
   "outputs": [],
   "source": [
    "import os\n",
    "import datetime\n",
    "\n",
    "import IPython\n",
    "import IPython.display\n",
    "import matplotlib as mpl\n",
    "import matplotlib.pyplot as plt\n",
    "import numpy as np\n",
    "import pandas as pd\n",
    "import seaborn as sns\n",
    "import tensorflow as tf\n",
    "import opendatasets as od\n",
    "\n",
    "%matplotlib inline"
   ]
  },
  {
   "cell_type": "code",
   "execution_count": 7,
   "metadata": {},
   "outputs": [
    {
     "data": {
      "text/html": [
       "<div>\n",
       "<style scoped>\n",
       "    .dataframe tbody tr th:only-of-type {\n",
       "        vertical-align: middle;\n",
       "    }\n",
       "\n",
       "    .dataframe tbody tr th {\n",
       "        vertical-align: top;\n",
       "    }\n",
       "\n",
       "    .dataframe thead th {\n",
       "        text-align: right;\n",
       "    }\n",
       "</style>\n",
       "<table border=\"1\" class=\"dataframe\">\n",
       "  <thead>\n",
       "    <tr style=\"text-align: right;\">\n",
       "      <th></th>\n",
       "      <th>Date</th>\n",
       "      <th>Open</th>\n",
       "      <th>High</th>\n",
       "      <th>Low</th>\n",
       "      <th>Close</th>\n",
       "      <th>Adj Close</th>\n",
       "      <th>Volume</th>\n",
       "    </tr>\n",
       "  </thead>\n",
       "  <tbody>\n",
       "    <tr>\n",
       "      <th>0</th>\n",
       "      <td>2010-07-16</td>\n",
       "      <td>0.04951</td>\n",
       "      <td>0.04951</td>\n",
       "      <td>0.04951</td>\n",
       "      <td>0.04951</td>\n",
       "      <td>0.04951</td>\n",
       "      <td>0</td>\n",
       "    </tr>\n",
       "    <tr>\n",
       "      <th>1</th>\n",
       "      <td>2010-07-17</td>\n",
       "      <td>0.04951</td>\n",
       "      <td>0.08585</td>\n",
       "      <td>0.05941</td>\n",
       "      <td>0.08584</td>\n",
       "      <td>0.08584</td>\n",
       "      <td>5</td>\n",
       "    </tr>\n",
       "    <tr>\n",
       "      <th>2</th>\n",
       "      <td>2010-07-18</td>\n",
       "      <td>0.08584</td>\n",
       "      <td>0.09307</td>\n",
       "      <td>0.07723</td>\n",
       "      <td>0.08080</td>\n",
       "      <td>0.08080</td>\n",
       "      <td>49</td>\n",
       "    </tr>\n",
       "    <tr>\n",
       "      <th>3</th>\n",
       "      <td>2010-07-19</td>\n",
       "      <td>0.08080</td>\n",
       "      <td>0.08181</td>\n",
       "      <td>0.07426</td>\n",
       "      <td>0.07474</td>\n",
       "      <td>0.07474</td>\n",
       "      <td>20</td>\n",
       "    </tr>\n",
       "    <tr>\n",
       "      <th>4</th>\n",
       "      <td>2010-07-20</td>\n",
       "      <td>0.07474</td>\n",
       "      <td>0.07921</td>\n",
       "      <td>0.06634</td>\n",
       "      <td>0.07921</td>\n",
       "      <td>0.07921</td>\n",
       "      <td>42</td>\n",
       "    </tr>\n",
       "  </tbody>\n",
       "</table>\n",
       "</div>"
      ],
      "text/plain": [
       "         Date     Open     High      Low    Close  Adj Close  Volume\n",
       "0  2010-07-16  0.04951  0.04951  0.04951  0.04951    0.04951       0\n",
       "1  2010-07-17  0.04951  0.08585  0.05941  0.08584    0.08584       5\n",
       "2  2010-07-18  0.08584  0.09307  0.07723  0.08080    0.08080      49\n",
       "3  2010-07-19  0.08080  0.08181  0.07426  0.07474    0.07474      20\n",
       "4  2010-07-20  0.07474  0.07921  0.06634  0.07921    0.07921      42"
      ]
     },
     "execution_count": 7,
     "metadata": {},
     "output_type": "execute_result"
    }
   ],
   "source": [
    "#https://raw.githubusercontent.com/notadamking/RLTrader/master/data/input/coinbase-1h-btc-usd.csv\n",
    "df = pd.read_csv(\"https://raw.githubusercontent.com/curiousily/Deep-Learning-For-Hackers/master/data/3.stock-prediction/BTC-USD.csv\")\n",
    "df.head()"
   ]
  },
  {
   "cell_type": "code",
   "execution_count": 8,
   "metadata": {},
   "outputs": [
    {
     "data": {
      "text/html": [
       "<div>\n",
       "<style scoped>\n",
       "    .dataframe tbody tr th:only-of-type {\n",
       "        vertical-align: middle;\n",
       "    }\n",
       "\n",
       "    .dataframe tbody tr th {\n",
       "        vertical-align: top;\n",
       "    }\n",
       "\n",
       "    .dataframe thead th {\n",
       "        text-align: right;\n",
       "    }\n",
       "</style>\n",
       "<table border=\"1\" class=\"dataframe\">\n",
       "  <thead>\n",
       "    <tr style=\"text-align: right;\">\n",
       "      <th></th>\n",
       "      <th>count</th>\n",
       "      <th>mean</th>\n",
       "      <th>std</th>\n",
       "      <th>min</th>\n",
       "      <th>25%</th>\n",
       "      <th>50%</th>\n",
       "      <th>75%</th>\n",
       "      <th>max</th>\n",
       "    </tr>\n",
       "  </thead>\n",
       "  <tbody>\n",
       "    <tr>\n",
       "      <th>Open</th>\n",
       "      <td>3201.0</td>\n",
       "      <td>1.632572e+03</td>\n",
       "      <td>2.962080e+03</td>\n",
       "      <td>0.04951</td>\n",
       "      <td>12.50</td>\n",
       "      <td>3.616700e+02</td>\n",
       "      <td>1.033300e+03</td>\n",
       "      <td>1.934660e+04</td>\n",
       "    </tr>\n",
       "    <tr>\n",
       "      <th>High</th>\n",
       "      <td>3201.0</td>\n",
       "      <td>1.685521e+03</td>\n",
       "      <td>3.072654e+03</td>\n",
       "      <td>0.04951</td>\n",
       "      <td>12.69</td>\n",
       "      <td>3.746700e+02</td>\n",
       "      <td>1.062790e+03</td>\n",
       "      <td>1.987062e+04</td>\n",
       "    </tr>\n",
       "    <tr>\n",
       "      <th>Low</th>\n",
       "      <td>3201.0</td>\n",
       "      <td>1.572301e+03</td>\n",
       "      <td>2.824316e+03</td>\n",
       "      <td>0.01000</td>\n",
       "      <td>12.25</td>\n",
       "      <td>3.504900e+02</td>\n",
       "      <td>9.924500e+02</td>\n",
       "      <td>1.875091e+04</td>\n",
       "    </tr>\n",
       "    <tr>\n",
       "      <th>Close</th>\n",
       "      <td>3201.0</td>\n",
       "      <td>1.634224e+03</td>\n",
       "      <td>2.962630e+03</td>\n",
       "      <td>0.04951</td>\n",
       "      <td>12.51</td>\n",
       "      <td>3.617100e+02</td>\n",
       "      <td>1.033720e+03</td>\n",
       "      <td>1.934549e+04</td>\n",
       "    </tr>\n",
       "    <tr>\n",
       "      <th>Adj Close</th>\n",
       "      <td>3201.0</td>\n",
       "      <td>1.634224e+03</td>\n",
       "      <td>2.962630e+03</td>\n",
       "      <td>0.04951</td>\n",
       "      <td>12.51</td>\n",
       "      <td>3.617100e+02</td>\n",
       "      <td>1.033720e+03</td>\n",
       "      <td>1.934549e+04</td>\n",
       "    </tr>\n",
       "    <tr>\n",
       "      <th>Volume</th>\n",
       "      <td>3201.0</td>\n",
       "      <td>1.524097e+08</td>\n",
       "      <td>4.070572e+08</td>\n",
       "      <td>0.00000</td>\n",
       "      <td>536267.00</td>\n",
       "      <td>1.012788e+07</td>\n",
       "      <td>6.814613e+07</td>\n",
       "      <td>6.245732e+09</td>\n",
       "    </tr>\n",
       "  </tbody>\n",
       "</table>\n",
       "</div>"
      ],
      "text/plain": [
       "            count          mean           std      min        25%  \\\n",
       "Open       3201.0  1.632572e+03  2.962080e+03  0.04951      12.50   \n",
       "High       3201.0  1.685521e+03  3.072654e+03  0.04951      12.69   \n",
       "Low        3201.0  1.572301e+03  2.824316e+03  0.01000      12.25   \n",
       "Close      3201.0  1.634224e+03  2.962630e+03  0.04951      12.51   \n",
       "Adj Close  3201.0  1.634224e+03  2.962630e+03  0.04951      12.51   \n",
       "Volume     3201.0  1.524097e+08  4.070572e+08  0.00000  536267.00   \n",
       "\n",
       "                    50%           75%           max  \n",
       "Open       3.616700e+02  1.033300e+03  1.934660e+04  \n",
       "High       3.746700e+02  1.062790e+03  1.987062e+04  \n",
       "Low        3.504900e+02  9.924500e+02  1.875091e+04  \n",
       "Close      3.617100e+02  1.033720e+03  1.934549e+04  \n",
       "Adj Close  3.617100e+02  1.033720e+03  1.934549e+04  \n",
       "Volume     1.012788e+07  6.814613e+07  6.245732e+09  "
      ]
     },
     "execution_count": 8,
     "metadata": {},
     "output_type": "execute_result"
    }
   ],
   "source": [
    "df.describe().transpose()"
   ]
  },
  {
   "cell_type": "code",
   "execution_count": 9,
   "metadata": {},
   "outputs": [
    {
     "data": {
      "text/plain": [
       "0      2010-07-16\n",
       "1      2010-07-17\n",
       "2      2010-07-18\n",
       "3      2010-07-19\n",
       "4      2010-07-20\n",
       "          ...    \n",
       "3196   2019-04-16\n",
       "3197   2019-04-17\n",
       "3198   2019-04-18\n",
       "3199   2019-04-19\n",
       "3200   2019-04-20\n",
       "Name: Date, Length: 3201, dtype: datetime64[ns]"
      ]
     },
     "execution_count": 9,
     "metadata": {},
     "output_type": "execute_result"
    }
   ],
   "source": [
    "date_time = pd.to_datetime(df.pop('Date'))\n",
    "date_time"
   ]
  },
  {
   "cell_type": "code",
   "execution_count": 10,
   "metadata": {},
   "outputs": [
    {
     "data": {
      "image/png": "[encoded data removed]",
      "text/plain": [
       "<Figure size 432x288 with 4 Axes>"
      ]
     },
     "metadata": {
      "needs_background": "light"
     },
     "output_type": "display_data"
    }
   ],
   "source": [
    "plot_cols = ['Open', 'High', 'Low', 'Close']\n",
    "plot_features = df[plot_cols]\n",
    "plot_features.index = date_time\n",
    "_ = plot_features.plot(subplots=True)"
   ]
  },
  {
   "cell_type": "code",
   "execution_count": 17,
   "metadata": {},
   "outputs": [
    {
     "data": {
      "image/png": "[encoded data removed]",
      "text/plain": [
       "<Figure size 432x288 with 4 Axes>"
      ]
     },
     "metadata": {
      "needs_background": "light"
     },
     "output_type": "display_data"
    }
   ],
   "source": [
    "plot_features = df[plot_cols][2401:3201]\n",
    "plot_features.index = date_time[2401:3201]\n",
    "_ = plot_features.plot(subplots=True)"
   ]
  },
  {
   "cell_type": "code",
   "execution_count": 13,
   "metadata": {},
   "outputs": [
    {
     "name": "stdout",
     "output_type": "stream",
     "text": [
      "<class 'pandas.core.frame.DataFrame'>\n",
      "RangeIndex: 3201 entries, 0 to 3200\n",
      "Data columns (total 6 columns):\n",
      " #   Column     Non-Null Count  Dtype  \n",
      "---  ------     --------------  -----  \n",
      " 0   Open       3201 non-null   float64\n",
      " 1   High       3201 non-null   float64\n",
      " 2   Low        3201 non-null   float64\n",
      " 3   Close      3201 non-null   float64\n",
      " 4   Adj Close  3201 non-null   float64\n",
      " 5   Volume     3201 non-null   int64  \n",
      "dtypes: float64(5), int64(1)\n",
      "memory usage: 150.2 KB\n"
     ]
    }
   ],
   "source": [
    "df.info()"
   ]
  },
  {
   "cell_type": "code",
   "execution_count": null,
   "metadata": {},
   "outputs": [],
   "source": []
  }
 ],
 "metadata": {
  "kernelspec": {
   "display_name": "Python 3",
   "language": "python",
   "name": "python3"
  },
  "language_info": {
   "codemirror_mode": {
    "name": "ipython",
    "version": 3
   },
   "file_extension": ".py",
   "mimetype": "text/x-python",
   "name": "python",
   "nbconvert_exporter": "python",
   "pygments_lexer": "ipython3",
   "version": "3.6.9"
  }
 },
 "nbformat": 4,
 "nbformat_minor": 4
}
