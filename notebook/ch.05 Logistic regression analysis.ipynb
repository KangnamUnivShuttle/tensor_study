{
 "cells": [
  {
   "cell_type": "markdown",
   "metadata": {},
   "source": [
    "로지스틱 회귀 분석은 예측 값이 0 혹은 1인 상황일 때 사용\n",
    "\n",
    "그래프 모양이 S 자 형태 혹은 Z 반대 형태이며\n",
    "\n",
    "```\n",
    "y = 1 / (1 + e ^(-alpha * x + beta)) \n",
    "```\n",
    "\n",
    "로 alpha 값이 작을 수록 직선 형태로 변해 오차가 커지고\n",
    "\n",
    "beta 값이 작으면 왼쪽, 크면 오른쪽으로 이동함"
   ]
  },
  {
   "cell_type": "code",
   "execution_count": 1,
   "metadata": {},
   "outputs": [],
   "source": [
    "import numpy as np\n",
    "import pandas as pd\n",
    "import matplotlib.pyplot as plt\n",
    "\n",
    "%matplotlib inline"
   ]
  },
  {
   "cell_type": "code",
   "execution_count": 6,
   "metadata": {},
   "outputs": [],
   "source": [
    "x = [2, 4, 6, 8, 10, 12, 14]\n",
    "y = [0, 0, 0, 1, 1, 1, 1]"
   ]
  },
  {
   "cell_type": "code",
   "execution_count": 7,
   "metadata": {},
   "outputs": [
    {
     "data": {
      "image/png": "[encoded data removed]",
      "text/plain": [
       "<Figure size 432x288 with 1 Axes>"
      ]
     },
     "metadata": {
      "needs_background": "light"
     },
     "output_type": "display_data"
    }
   ],
   "source": [
    "plt.scatter(x, y)\n",
    "plt.xlim(0, 15)\n",
    "plt.ylim(-.1, 1.1) # -0.1 ~ 1.1\n",
    "plt.show()"
   ]
  },
  {
   "cell_type": "code",
   "execution_count": 49,
   "metadata": {},
   "outputs": [],
   "source": [
    "alpha = 0\n",
    "beta = 0\n",
    "lr = 0.05"
   ]
  },
  {
   "cell_type": "code",
   "execution_count": 50,
   "metadata": {},
   "outputs": [],
   "source": [
    "x_data = np.array(x)\n",
    "y_data = np.array(y)"
   ]
  },
  {
   "cell_type": "code",
   "execution_count": 51,
   "metadata": {},
   "outputs": [],
   "source": [
    "def sigmoid(x):\n",
    "    return 1 / (1 + np.e ** (-x))"
   ]
  },
  {
   "cell_type": "code",
   "execution_count": 52,
   "metadata": {},
   "outputs": [],
   "source": [
    "for i in range(2001):\n",
    "    a_diff = x_data * (sigmoid(alpha * x_data + beta) - y_data)\n",
    "    b_diff = sigmoid(alpha * x_data + beta) - y_data\n",
    "#     alpha = sum([alpha - lr * diff for diff in a_diff])\n",
    "#     beta = sum([beta - lr * diff for diff in b_diff])\n",
    "    for diff in a_diff:\n",
    "        alpha = alpha - lr * diff\n",
    "    for diff in b_diff:\n",
    "        beta = beta - lr * diff"
   ]
  },
  {
   "cell_type": "code",
   "execution_count": 53,
   "metadata": {},
   "outputs": [
    {
     "data": {
      "text/plain": [
       "(1.7739910953082771, -12.242399556944267)"
      ]
     },
     "execution_count": 53,
     "metadata": {},
     "output_type": "execute_result"
    }
   ],
   "source": [
    "alpha, beta"
   ]
  },
  {
   "cell_type": "code",
   "execution_count": 54,
   "metadata": {},
   "outputs": [
    {
     "data": {
      "image/png": "[encoded data removed]",
      "text/plain": [
       "<Figure size 432x288 with 1 Axes>"
      ]
     },
     "metadata": {
      "needs_background": "light"
     },
     "output_type": "display_data"
    }
   ],
   "source": [
    "plt.scatter(x_data, y_data)\n",
    "plt.xlim(0, 15)\n",
    "plt.ylim(-.1, 1.1)\n",
    "x_range = (np.arange(0, 15, 0.1))\n",
    "plt.plot(np.arange(0, 15, 0.1), np.array([sigmoid(alpha * x + beta) for x in x_range]))\n",
    "plt.show()"
   ]
  },
  {
   "cell_type": "code",
   "execution_count": null,
   "metadata": {},
   "outputs": [],
   "source": []
  }
 ],
 "metadata": {
  "kernelspec": {
   "display_name": "Python 3",
   "language": "python",
   "name": "python3"
  },
  "language_info": {
   "codemirror_mode": {
    "name": "ipython",
    "version": 3
   },
   "file_extension": ".py",
   "mimetype": "text/x-python",
   "name": "python",
   "nbconvert_exporter": "python",
   "pygments_lexer": "ipython3",
   "version": "3.6.9"
  }
 },
 "nbformat": 4,
 "nbformat_minor": 4
}
